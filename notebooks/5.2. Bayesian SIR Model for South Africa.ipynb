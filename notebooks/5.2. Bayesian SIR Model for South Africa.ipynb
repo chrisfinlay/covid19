{
 "cells": [
  {
   "cell_type": "code",
   "execution_count": 1,
   "metadata": {},
   "outputs": [
    {
     "name": "stdout",
     "output_type": "stream",
     "text": [
      "env: CUDA_VISIBLE_DEVICES=0,1,2,3\n"
     ]
    }
   ],
   "source": [
    "%env CUDA_VISIBLE_DEVICES=0,1,2,3"
   ]
  },
  {
   "cell_type": "code",
   "execution_count": 2,
   "metadata": {},
   "outputs": [],
   "source": [
    "import matplotlib.pyplot as plt\n",
    "import pandas as pd\n",
    "import seaborn as sns\n",
    "import numpy as onp\n",
    "import h5py\n",
    "\n",
    "import jax\n",
    "from jax import vmap\n",
    "import jax.numpy as np\n",
    "import jax.random as random\n",
    "\n",
    "import numpyro\n",
    "from numpyro import handlers\n",
    "import numpyro.distributions as dist\n",
    "from numpyro.infer import MCMC, NUTS\n",
    "from scipy.stats import norm\n",
    "\n",
    "from time import time\n",
    "\n",
    "import os, sys\n",
    "sys.path.append(os.path.split(os.getcwd())[0])\n",
    "import scripts.transform_data as transform\n",
    "import models.SIR as SIR"
   ]
  },
  {
   "cell_type": "code",
   "execution_count": 3,
   "metadata": {},
   "outputs": [],
   "source": [
    "plt.rcParams['font.size'] = 14"
   ]
  },
  {
   "cell_type": "code",
   "execution_count": 4,
   "metadata": {},
   "outputs": [
    {
     "name": "stdout",
     "output_type": "stream",
     "text": [
      "[GpuDevice(id=0), GpuDevice(id=1), GpuDevice(id=2), GpuDevice(id=3)]\n"
     ]
    }
   ],
   "source": [
    "N_GPU = sum([i.isdigit() for i in os.environ.get('CUDA_VISIBLE_DEVICES')])\n",
    "if N_GPU>0:\n",
    "    numpyro.set_platform('gpu')   \n",
    "    numpyro.set_host_device_count(N_GPU)\n",
    "    N_chains = N_GPU\n",
    "else:\n",
    "    N_chains = 1\n",
    "\n",
    "print(jax.devices())    "
   ]
  },
  {
   "cell_type": "markdown",
   "metadata": {},
   "source": [
    "# Process Data"
   ]
  },
  {
   "cell_type": "code",
   "execution_count": 5,
   "metadata": {},
   "outputs": [],
   "source": [
    "# Confirmed, Recovered and Death Cases\n",
    "IRD = transform.IRD(min_confirmed=100, min_recovered=0, min_deaths=0)"
   ]
  },
  {
   "cell_type": "code",
   "execution_count": 6,
   "metadata": {},
   "outputs": [],
   "source": [
    "min_days = 0\n",
    "max_days = 60\n",
    "cases = {}\n",
    "recoveries = {}\n",
    "deaths = {}\n",
    "start_days = np.argmax((IRD[0].values>=30),axis=1)\n",
    "for i, country in enumerate(IRD[0].index):\n",
    "    if len(IRD[0].T[country].values[start_days[i]:])>=min_days:\n",
    "        time_slice = slice(start_days[i], start_days[i]+max_days, 1)\n",
    "        \n",
    "        cases[country] = np.array(IRD[0].T[country].values[time_slice]).astype(np.float32)\n",
    "        recoveries[country] = np.array(IRD[1].T[country].values[time_slice]).astype(np.float32)\n",
    "        deaths[country] = np.array(IRD[2].T[country].values[time_slice]).astype(np.float32)"
   ]
  },
  {
   "cell_type": "code",
   "execution_count": 7,
   "metadata": {},
   "outputs": [
    {
     "name": "stdout",
     "output_type": "stream",
     "text": [
      "Number of unmatched regions : 45\n",
      "Population data saved @ /data/COVID-19/covid19/data/population/populations.csv\n"
     ]
    }
   ],
   "source": [
    "pops = transform.population()"
   ]
  },
  {
   "cell_type": "code",
   "execution_count": 8,
   "metadata": {},
   "outputs": [],
   "source": [
    "country = 'South Africa'\n",
    "N_pop = pops.T[country].values[0]\n",
    "cases = cases[country][:13]\n",
    "recoveries = recoveries[country][:13]\n",
    "deaths = deaths[country][:13]"
   ]
  },
  {
   "cell_type": "code",
   "execution_count": 18,
   "metadata": {},
   "outputs": [],
   "source": [
    "def model():\n",
    "    \n",
    "    country = 'South Africa'\n",
    "    ############  \n",
    "    # Initial Infection Rate\n",
    "    Ii = numpyro.sample('Ii', dist.Normal(100.0, 50.0))\n",
    "    # Initial Removed Rate\n",
    "    Ri = numpyro.sample('Ri', dist.Normal(1.0, 5.0))\n",
    "    # Basic reproductive rate\n",
    "    R0 = numpyro.sample('R0', dist.Normal(2.5, 1.0))\n",
    "    # Time to removal\n",
    "    Tr = numpyro.sample('Tr', dist.Normal(20.0, 10.0))\n",
    "    \n",
    "#     sigma_I = numpyro.sample('sigma_I',dist.HalfNormal())\n",
    "    sigma_I = 1.0\n",
    "    sigma_R = 1.0\n",
    "    \n",
    "    N_days = len(cases)\n",
    "    removed = recoveries + deaths\n",
    "    infections = cases - removed\n",
    "    beta = R0/Tr\n",
    "    gamma = 1.0/Tr\n",
    "    prediction = SIR.SIR(N_pop, Ii, Ri, beta, gamma, N_days)\n",
    "\n",
    "    # Likelihood\n",
    "    numpyro.sample(country+'_I', dist.Normal(prediction[:,1], sigma_I), # SIR model\n",
    "                   obs=infections)\n",
    "    numpyro.sample(country+'_R', dist.Normal(prediction[:,2], sigma_R), # SIR model\n",
    "                   obs=removed)\n",
    "    \n",
    "    \n",
    "#     numpyro.sample(country+'_I', dist.Poisson(prediction[:,1]), # SIR model\n",
    "#                    obs=infections)\n",
    "#     numpyro.sample(country+'_R', dist.Poisson(prediction[:,2]), # SIR model\n",
    "#                    obs=removed)"
   ]
  },
  {
   "cell_type": "code",
   "execution_count": 19,
   "metadata": {},
   "outputs": [],
   "source": [
    "N = len(cases)          \n",
    "init_params = {'Ii': 100.0*np.ones((N_chains, 1)),\n",
    "               'Ri': 1.0*np.ones((N_chains, 1)),\n",
    "               'R0': 2.5*np.ones((N_chains, 1)),\n",
    "               'Tr': 20.0*np.ones((N_chains, 1)),\n",
    "               }\n",
    "if N_chains==1:\n",
    "    for key in init_params.keys():\n",
    "        init_params[key] = init_params[key][0]\n",
    "\n",
    "nuts_kernel = NUTS(model)\n",
    "mcmc = MCMC(nuts_kernel, num_warmup=1000, num_samples=10000, num_chains=N_chains)\n",
    "rng_key = random.PRNGKey(0)"
   ]
  },
  {
   "cell_type": "code",
   "execution_count": 20,
   "metadata": {},
   "outputs": [
    {
     "name": "stdout",
     "output_type": "stream",
     "text": [
      "Time taken to compile model and draw samples : 530.2110486030579 s\n"
     ]
    }
   ],
   "source": [
    "s = time()\n",
    "mcmc.run(rng_key, extra_fields=('potential_energy',), init_params=init_params)\n",
    "print(f'Time taken to compile model and draw samples : {time()-s} s')"
   ]
  },
  {
   "cell_type": "code",
   "execution_count": 12,
   "metadata": {},
   "outputs": [
    {
     "name": "stdout",
     "output_type": "stream",
     "text": [
      "\n",
      "                mean       std    median      5.0%     95.0%     n_eff     r_hat\n",
      "     Ii[0]    288.49      1.45    288.49    286.09    290.85  18032.77      1.00\n",
      "     R0[0]      1.03      0.09      1.03      0.88      1.17  18114.82      1.00\n",
      "     Ri[0]    -11.34      0.94    -11.33    -12.92     -9.82  22449.66      1.00\n",
      "     Tr[0]    125.91      5.39    125.77    117.11    134.78  21862.32      1.00\n",
      "\n",
      "Number of divergences: 0\n"
     ]
    }
   ],
   "source": [
    "samples = mcmc.get_samples()\n",
    "with h5py.File('../data/nb_samples/4.2._SIRsamples.h5', 'w') as fp:\n",
    "    for key in samples:\n",
    "        fp[key] = samples[key]\n",
    "mcmc.print_summary()"
   ]
  },
  {
   "cell_type": "code",
   "execution_count": 13,
   "metadata": {},
   "outputs": [],
   "source": [
    "samples = {}\n",
    "with h5py.File('../data/nb_samples/4.2._SIRsamples.h5', 'r') as fp:\n",
    "    for key in fp.keys():\n",
    "        samples[key] = fp[(key)][()]"
   ]
  },
  {
   "cell_type": "markdown",
   "metadata": {},
   "source": [
    "# $R_0$ for South Africa"
   ]
  },
  {
   "cell_type": "code",
   "execution_count": 14,
   "metadata": {},
   "outputs": [
    {
     "data": {
      "text/plain": [
       "Text(0.5, 0, '$R_0$ [infections/person]')"
      ]
     },
     "execution_count": 14,
     "metadata": {},
     "output_type": "execute_result"
    },
    {
     "data": {
      "image/png": "[encoded data removed]",
      "text/plain": [
       "<Figure size 432x288 with 1 Axes>"
      ]
     },
     "metadata": {
      "needs_background": "light"
     },
     "output_type": "display_data"
    }
   ],
   "source": [
    "smp = samples['R0']\n",
    "mn, std = norm.fit(smp)\n",
    "sns.distplot(smp, bins=50, fit=norm, fit_kws={'color':'red'})\n",
    "plt.vlines(mn, 0, norm.pdf(mn, mn, std), 'r')\n",
    "\n",
    "plt.xlabel(r'$R_0$ [infections/person]')"
   ]
  },
  {
   "cell_type": "markdown",
   "metadata": {},
   "source": [
    "# Typical time to removal for South Africa"
   ]
  },
  {
   "cell_type": "code",
   "execution_count": 15,
   "metadata": {},
   "outputs": [
    {
     "data": {
      "text/plain": [
       "Text(0.5, 0, 'Typical time to removal [days]')"
      ]
     },
     "execution_count": 15,
     "metadata": {},
     "output_type": "execute_result"
    },
    {
     "data": {
      "image/png": "[encoded data removed]",
      "text/plain": [
       "<Figure size 432x288 with 1 Axes>"
      ]
     },
     "metadata": {
      "needs_background": "light"
     },
     "output_type": "display_data"
    }
   ],
   "source": [
    "smp = samples['Tr']\n",
    "mn, std = norm.fit(smp)\n",
    "sns.distplot(smp, bins=50, fit=norm, fit_kws={'color':'red'})\n",
    "plt.vlines(mn, 0, norm.pdf(mn, mn, std), 'r')\n",
    "\n",
    "plt.xlabel(r'Typical time to removal [days]')"
   ]
  },
  {
   "cell_type": "markdown",
   "metadata": {},
   "source": [
    "# Predictions"
   ]
  },
  {
   "cell_type": "code",
   "execution_count": 17,
   "metadata": {},
   "outputs": [
    {
     "data": {
      "text/plain": [
       "<matplotlib.legend.Legend at 0x7fd69c05feb8>"
      ]
     },
     "execution_count": 17,
     "metadata": {},
     "output_type": "execute_result"
    },
    {
     "data": {
      "image/png": "[encoded data removed]",
      "text/plain": [
       "<Figure size 432x288 with 1 Axes>"
      ]
     },
     "metadata": {
      "needs_background": "light"
     },
     "output_type": "display_data"
    }
   ],
   "source": [
    "Ii = np.mean(samples['Ii'])\n",
    "Ri = np.mean(samples['Ri'])\n",
    "R0 = np.mean(samples['R0'])\n",
    "Tr = np.mean(samples['Tr'])\n",
    "beta = R0/Tr\n",
    "gamma = 1.0/Tr\n",
    "days = len(cases)\n",
    "sir = SIR.SIR(N_pop, Ii, Ri, beta, gamma, days)\n",
    "t = np.arange(days)\n",
    "plt.plot(cases-recoveries-deaths, 'bo', label='Infected')\n",
    "plt.plot(t, sir[:,1], 'b', label='Infected Pred.')\n",
    "plt.plot(recoveries+deaths, 'go', label='Removed')\n",
    "plt.plot(t, sir[:,2], 'g', label='Removed Pred.')\n",
    "plt.legend()"
   ]
  },
  {
   "cell_type": "code",
   "execution_count": 34,
   "metadata": {},
   "outputs": [
    {
     "data": {
      "text/plain": [
       "<matplotlib.collections.LineCollection at 0x7ff4443d2e80>"
      ]
     },
     "execution_count": 34,
     "metadata": {},
     "output_type": "execute_result"
    },
    {
     "data": {
      "image/png": "[encoded data removed]",
      "text/plain": [
       "<Figure size 432x288 with 1 Axes>"
      ]
     },
     "metadata": {
      "needs_background": "light"
     },
     "output_type": "display_data"
    }
   ],
   "source": [
    "Ii = np.mean(samples['Ii'])\n",
    "Ri = np.mean(samples['Ri'])\n",
    "R0 = np.mean(samples['R0'])\n",
    "Tr = np.mean(samples['Tr'])\n",
    "\n",
    "Ii = 40.0\n",
    "Ri = 0.0\n",
    "R0 = 8.0\n",
    "Tr = 30.0\n",
    "\n",
    "beta = R0/Tr\n",
    "gamma = 1.0/Tr\n",
    "days = len(cases)\n",
    "sir = SIR.SIR(N_pop, Ii, Ri, beta, gamma, days)\n",
    "t = np.arange(days)\n",
    "plt.plot(cases-recoveries-deaths, 'bo', label='Infected')\n",
    "plt.plot(t, sir[:,1], 'b', label='Infected Pred.')\n",
    "plt.plot(recoveries+deaths, 'go', label='Removed')\n",
    "plt.plot(t, sir[:,2], 'g', label='Removed Pred.')\n",
    "plt.legend()\n",
    "plt.vlines(13, 0, 1000)\n",
    "# plt.xlim(0, 5)\n",
    "# plt.ylim(0, 100)"
   ]
  },
  {
   "cell_type": "code",
   "execution_count": null,
   "metadata": {},
   "outputs": [],
   "source": []
  }
 ],
 "metadata": {
  "kernelspec": {
   "display_name": "Python 3",
   "language": "python",
   "name": "python3"
  },
  "language_info": {
   "codemirror_mode": {
    "name": "ipython",
    "version": 3
   },
   "file_extension": ".py",
   "mimetype": "text/x-python",
   "name": "python",
   "nbconvert_exporter": "python",
   "pygments_lexer": "ipython3",
   "version": "3.6.8"
  }
 },
 "nbformat": 4,
 "nbformat_minor": 2
}
