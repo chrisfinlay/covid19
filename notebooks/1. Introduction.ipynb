{
 "cells": [
  {
   "cell_type": "code",
   "execution_count": 14,
   "metadata": {},
   "outputs": [],
   "source": [
    "import os, sys\n",
    "sys.path.append(os.path.split(os.getcwd())[0])"
   ]
  },
  {
   "cell_type": "code",
   "execution_count": 15,
   "metadata": {},
   "outputs": [],
   "source": [
    "import scripts.collect_data as collect\n",
    "import scripts.transform_data as transform\n",
    "import matplotlib.pyplot as plt\n",
    "import pandas as pd\n",
    "import numpy as np"
   ]
  },
  {
   "cell_type": "markdown",
   "metadata": {},
   "source": [
    "# Download and transform data associated with models"
   ]
  },
  {
   "cell_type": "markdown",
   "metadata": {},
   "source": [
    "|     |     |     |     |     |     |     |     |\n",
    "|-----|-----|-----|-----|-----|-----|-----|-----|\n",
    "|Infected |Recovered | Deaths | Population | Temperature | Humidity | Wind Speed | Test Rate |\n",
    "|IRD[0] | IRD[1] | IRD[2] | pop| THW[0] | THW[1] | THW[2] | test "
   ]
  },
  {
   "cell_type": "markdown",
   "metadata": {},
   "source": [
    "## Download John's Hopkins Infection, Recovery and Death data"
   ]
  },
  {
   "cell_type": "code",
   "execution_count": 35,
   "metadata": {},
   "outputs": [
    {
     "name": "stdout",
     "output_type": "stream",
     "text": [
      "Infection, Recovery and Death data saved @ /data/COVID-19/covid19/data/IRD\n"
     ]
    },
    {
     "data": {
      "text/plain": [
       "'/data/COVID-19/covid19/data/IRD'"
      ]
     },
     "execution_count": 35,
     "metadata": {},
     "output_type": "execute_result"
    }
   ],
   "source": [
    "collect.IRD()"
   ]
  },
  {
   "cell_type": "code",
   "execution_count": 36,
   "metadata": {},
   "outputs": [],
   "source": [
    "IRD = transform.IRD(min_confirmed=100, min_recovered=0, min_deaths=0)"
   ]
  },
  {
   "cell_type": "markdown",
   "metadata": {},
   "source": [
    "## Download weather data using Dark Sky API (max 1000/day)"
   ]
  },
  {
   "cell_type": "code",
   "execution_count": 28,
   "metadata": {},
   "outputs": [
    {
     "name": "stderr",
     "output_type": "stream",
     "text": [
      "100%|██████████| 263/263 [05:12<00:00,  1.19s/it]"
     ]
    },
    {
     "name": "stdout",
     "output_type": "stream",
     "text": [
      "Weather data saved @ /data/COVID-19/covid19/data/weather/json/\n"
     ]
    },
    {
     "name": "stderr",
     "output_type": "stream",
     "text": [
      "\n"
     ]
    },
    {
     "data": {
      "text/plain": [
       "'/data/COVID-19/covid19/data/weather/json/'"
      ]
     },
     "execution_count": 28,
     "metadata": {},
     "output_type": "execute_result"
    }
   ],
   "source": [
    "collect.weather()"
   ]
  },
  {
   "cell_type": "code",
   "execution_count": 29,
   "metadata": {},
   "outputs": [
    {
     "name": "stderr",
     "output_type": "stream",
     "text": [
      "100%|██████████| 263/263 [00:20<00:00, 12.89it/s]\n"
     ]
    },
    {
     "name": "stdout",
     "output_type": "stream",
     "text": [
      "Weather data saved @ /data/COVID-19/covid19/data/weather\n"
     ]
    }
   ],
   "source": [
    "THW = transform.weather(update=True)"
   ]
  },
  {
   "cell_type": "code",
   "execution_count": 30,
   "metadata": {},
   "outputs": [
    {
     "data": {
      "text/html": [
       "<div>\n",
       "<style scoped>\n",
       "    .dataframe tbody tr th:only-of-type {\n",
       "        vertical-align: middle;\n",
       "    }\n",
       "\n",
       "    .dataframe tbody tr th {\n",
       "        vertical-align: top;\n",
       "    }\n",
       "\n",
       "    .dataframe thead th {\n",
       "        text-align: right;\n",
       "    }\n",
       "</style>\n",
       "<table border=\"1\" class=\"dataframe\">\n",
       "  <thead>\n",
       "    <tr style=\"text-align: right;\">\n",
       "      <th></th>\n",
       "      <th>1/22/20</th>\n",
       "      <th>1/23/20</th>\n",
       "      <th>1/24/20</th>\n",
       "      <th>1/25/20</th>\n",
       "      <th>1/26/20</th>\n",
       "      <th>1/27/20</th>\n",
       "      <th>1/28/20</th>\n",
       "      <th>1/29/20</th>\n",
       "      <th>1/30/20</th>\n",
       "      <th>1/31/20</th>\n",
       "      <th>...</th>\n",
       "      <th>3/28/20</th>\n",
       "      <th>3/29/20</th>\n",
       "      <th>3/30/20</th>\n",
       "      <th>3/31/20</th>\n",
       "      <th>4/1/20</th>\n",
       "      <th>4/2/20</th>\n",
       "      <th>4/3/20</th>\n",
       "      <th>4/4/20</th>\n",
       "      <th>4/5/20</th>\n",
       "      <th>4/6/20</th>\n",
       "    </tr>\n",
       "    <tr>\n",
       "      <th>Country/Region</th>\n",
       "      <th></th>\n",
       "      <th></th>\n",
       "      <th></th>\n",
       "      <th></th>\n",
       "      <th></th>\n",
       "      <th></th>\n",
       "      <th></th>\n",
       "      <th></th>\n",
       "      <th></th>\n",
       "      <th></th>\n",
       "      <th></th>\n",
       "      <th></th>\n",
       "      <th></th>\n",
       "      <th></th>\n",
       "      <th></th>\n",
       "      <th></th>\n",
       "      <th></th>\n",
       "      <th></th>\n",
       "      <th></th>\n",
       "      <th></th>\n",
       "      <th></th>\n",
       "    </tr>\n",
       "  </thead>\n",
       "  <tbody>\n",
       "    <tr>\n",
       "      <th>Afghanistan</th>\n",
       "      <td>9.908750</td>\n",
       "      <td>9.908750</td>\n",
       "      <td>9.908750</td>\n",
       "      <td>9.908750</td>\n",
       "      <td>9.908750</td>\n",
       "      <td>9.908750</td>\n",
       "      <td>9.908750</td>\n",
       "      <td>9.908750</td>\n",
       "      <td>9.908750</td>\n",
       "      <td>9.908750</td>\n",
       "      <td>...</td>\n",
       "      <td>10.565417</td>\n",
       "      <td>9.917917</td>\n",
       "      <td>9.151250</td>\n",
       "      <td>10.402917</td>\n",
       "      <td>10.455833</td>\n",
       "      <td>11.140417</td>\n",
       "      <td>14.014583</td>\n",
       "      <td>12.852083</td>\n",
       "      <td>13.083333</td>\n",
       "      <td>11.259167</td>\n",
       "    </tr>\n",
       "    <tr>\n",
       "      <th>Albania</th>\n",
       "      <td>6.367500</td>\n",
       "      <td>6.367500</td>\n",
       "      <td>6.367500</td>\n",
       "      <td>6.367500</td>\n",
       "      <td>6.367500</td>\n",
       "      <td>6.367500</td>\n",
       "      <td>6.367500</td>\n",
       "      <td>6.367500</td>\n",
       "      <td>6.367500</td>\n",
       "      <td>6.367500</td>\n",
       "      <td>...</td>\n",
       "      <td>9.703750</td>\n",
       "      <td>10.900435</td>\n",
       "      <td>12.275000</td>\n",
       "      <td>11.800833</td>\n",
       "      <td>6.099167</td>\n",
       "      <td>5.885833</td>\n",
       "      <td>8.513750</td>\n",
       "      <td>11.061250</td>\n",
       "      <td>11.970000</td>\n",
       "      <td>12.524583</td>\n",
       "    </tr>\n",
       "    <tr>\n",
       "      <th>Algeria</th>\n",
       "      <td>22.660417</td>\n",
       "      <td>22.660417</td>\n",
       "      <td>22.660417</td>\n",
       "      <td>22.660417</td>\n",
       "      <td>22.660417</td>\n",
       "      <td>22.660417</td>\n",
       "      <td>22.660417</td>\n",
       "      <td>22.660417</td>\n",
       "      <td>22.660417</td>\n",
       "      <td>22.660417</td>\n",
       "      <td>...</td>\n",
       "      <td>21.827500</td>\n",
       "      <td>20.328750</td>\n",
       "      <td>19.546667</td>\n",
       "      <td>22.023333</td>\n",
       "      <td>23.765000</td>\n",
       "      <td>24.420833</td>\n",
       "      <td>22.214167</td>\n",
       "      <td>21.802500</td>\n",
       "      <td>22.341250</td>\n",
       "      <td>23.265000</td>\n",
       "    </tr>\n",
       "    <tr>\n",
       "      <th>Andorra</th>\n",
       "      <td>5.491667</td>\n",
       "      <td>5.491667</td>\n",
       "      <td>5.491667</td>\n",
       "      <td>5.491667</td>\n",
       "      <td>5.491667</td>\n",
       "      <td>5.491667</td>\n",
       "      <td>5.491667</td>\n",
       "      <td>5.491667</td>\n",
       "      <td>5.491667</td>\n",
       "      <td>5.491667</td>\n",
       "      <td>...</td>\n",
       "      <td>4.810833</td>\n",
       "      <td>5.715652</td>\n",
       "      <td>3.038750</td>\n",
       "      <td>4.783333</td>\n",
       "      <td>6.207500</td>\n",
       "      <td>5.969583</td>\n",
       "      <td>5.847917</td>\n",
       "      <td>7.210417</td>\n",
       "      <td>7.164583</td>\n",
       "      <td>8.049583</td>\n",
       "    </tr>\n",
       "    <tr>\n",
       "      <th>Angola</th>\n",
       "      <td>22.600833</td>\n",
       "      <td>22.600833</td>\n",
       "      <td>22.600833</td>\n",
       "      <td>22.600833</td>\n",
       "      <td>22.600833</td>\n",
       "      <td>22.600833</td>\n",
       "      <td>22.600833</td>\n",
       "      <td>22.600833</td>\n",
       "      <td>22.600833</td>\n",
       "      <td>22.600833</td>\n",
       "      <td>...</td>\n",
       "      <td>21.690417</td>\n",
       "      <td>20.260833</td>\n",
       "      <td>22.230417</td>\n",
       "      <td>23.409583</td>\n",
       "      <td>23.860417</td>\n",
       "      <td>21.522917</td>\n",
       "      <td>21.160833</td>\n",
       "      <td>21.392500</td>\n",
       "      <td>21.601667</td>\n",
       "      <td>22.343333</td>\n",
       "    </tr>\n",
       "    <tr>\n",
       "      <th>...</th>\n",
       "      <td>...</td>\n",
       "      <td>...</td>\n",
       "      <td>...</td>\n",
       "      <td>...</td>\n",
       "      <td>...</td>\n",
       "      <td>...</td>\n",
       "      <td>...</td>\n",
       "      <td>...</td>\n",
       "      <td>...</td>\n",
       "      <td>...</td>\n",
       "      <td>...</td>\n",
       "      <td>...</td>\n",
       "      <td>...</td>\n",
       "      <td>...</td>\n",
       "      <td>...</td>\n",
       "      <td>...</td>\n",
       "      <td>...</td>\n",
       "      <td>...</td>\n",
       "      <td>...</td>\n",
       "      <td>...</td>\n",
       "      <td>...</td>\n",
       "    </tr>\n",
       "    <tr>\n",
       "      <th>United Kingdom / Falkland Islands (Malvinas)</th>\n",
       "      <td>12.058750</td>\n",
       "      <td>11.216667</td>\n",
       "      <td>10.295000</td>\n",
       "      <td>10.304583</td>\n",
       "      <td>9.682083</td>\n",
       "      <td>10.842083</td>\n",
       "      <td>10.640833</td>\n",
       "      <td>9.503333</td>\n",
       "      <td>11.476250</td>\n",
       "      <td>11.237500</td>\n",
       "      <td>...</td>\n",
       "      <td>8.685833</td>\n",
       "      <td>8.895417</td>\n",
       "      <td>9.725000</td>\n",
       "      <td>10.280833</td>\n",
       "      <td>9.455417</td>\n",
       "      <td>10.623333</td>\n",
       "      <td>11.520417</td>\n",
       "      <td>8.635000</td>\n",
       "      <td>9.220417</td>\n",
       "      <td>8.089583</td>\n",
       "    </tr>\n",
       "    <tr>\n",
       "      <th>France / Saint Pierre and Miquelon</th>\n",
       "      <td>-5.152083</td>\n",
       "      <td>-2.133750</td>\n",
       "      <td>-0.276667</td>\n",
       "      <td>-3.060417</td>\n",
       "      <td>-0.559583</td>\n",
       "      <td>1.756667</td>\n",
       "      <td>-0.192917</td>\n",
       "      <td>-1.829167</td>\n",
       "      <td>-2.558333</td>\n",
       "      <td>-3.030417</td>\n",
       "      <td>...</td>\n",
       "      <td>0.162500</td>\n",
       "      <td>0.380000</td>\n",
       "      <td>-0.300000</td>\n",
       "      <td>1.207500</td>\n",
       "      <td>3.360417</td>\n",
       "      <td>3.341250</td>\n",
       "      <td>2.525000</td>\n",
       "      <td>0.357500</td>\n",
       "      <td>0.003750</td>\n",
       "      <td>0.393333</td>\n",
       "    </tr>\n",
       "    <tr>\n",
       "      <th>South Sudan</th>\n",
       "      <td>26.382917</td>\n",
       "      <td>25.572500</td>\n",
       "      <td>25.743333</td>\n",
       "      <td>27.002083</td>\n",
       "      <td>28.325833</td>\n",
       "      <td>27.887500</td>\n",
       "      <td>26.995000</td>\n",
       "      <td>27.057917</td>\n",
       "      <td>27.706250</td>\n",
       "      <td>28.875833</td>\n",
       "      <td>...</td>\n",
       "      <td>31.667500</td>\n",
       "      <td>31.646250</td>\n",
       "      <td>31.308333</td>\n",
       "      <td>31.023333</td>\n",
       "      <td>31.995000</td>\n",
       "      <td>33.312500</td>\n",
       "      <td>33.655000</td>\n",
       "      <td>32.891250</td>\n",
       "      <td>30.714167</td>\n",
       "      <td>30.900417</td>\n",
       "    </tr>\n",
       "    <tr>\n",
       "      <th>Western Sahara</th>\n",
       "      <td>14.366250</td>\n",
       "      <td>16.211250</td>\n",
       "      <td>18.001667</td>\n",
       "      <td>18.052500</td>\n",
       "      <td>17.400417</td>\n",
       "      <td>17.236667</td>\n",
       "      <td>20.045000</td>\n",
       "      <td>21.201667</td>\n",
       "      <td>19.498750</td>\n",
       "      <td>18.992917</td>\n",
       "      <td>...</td>\n",
       "      <td>18.437500</td>\n",
       "      <td>19.275833</td>\n",
       "      <td>20.971250</td>\n",
       "      <td>23.773750</td>\n",
       "      <td>24.073750</td>\n",
       "      <td>24.551667</td>\n",
       "      <td>23.005000</td>\n",
       "      <td>21.618333</td>\n",
       "      <td>23.677500</td>\n",
       "      <td>25.290417</td>\n",
       "    </tr>\n",
       "    <tr>\n",
       "      <th>Sao Tome and Principe</th>\n",
       "      <td>26.849167</td>\n",
       "      <td>27.046250</td>\n",
       "      <td>26.746667</td>\n",
       "      <td>26.637917</td>\n",
       "      <td>26.914167</td>\n",
       "      <td>26.887083</td>\n",
       "      <td>26.918750</td>\n",
       "      <td>27.235833</td>\n",
       "      <td>27.305417</td>\n",
       "      <td>26.985417</td>\n",
       "      <td>...</td>\n",
       "      <td>27.483333</td>\n",
       "      <td>27.434167</td>\n",
       "      <td>27.817917</td>\n",
       "      <td>27.986667</td>\n",
       "      <td>28.077083</td>\n",
       "      <td>27.659167</td>\n",
       "      <td>27.574167</td>\n",
       "      <td>26.352083</td>\n",
       "      <td>27.465417</td>\n",
       "      <td>27.490833</td>\n",
       "    </tr>\n",
       "  </tbody>\n",
       "</table>\n",
       "<p>226 rows × 76 columns</p>\n",
       "</div>"
      ],
      "text/plain": [
       "                                                1/22/20    1/23/20    1/24/20  \\\n",
       "Country/Region                                                                  \n",
       "Afghanistan                                    9.908750   9.908750   9.908750   \n",
       "Albania                                        6.367500   6.367500   6.367500   \n",
       "Algeria                                       22.660417  22.660417  22.660417   \n",
       "Andorra                                        5.491667   5.491667   5.491667   \n",
       "Angola                                        22.600833  22.600833  22.600833   \n",
       "...                                                 ...        ...        ...   \n",
       "United Kingdom / Falkland Islands (Malvinas)  12.058750  11.216667  10.295000   \n",
       "France / Saint Pierre and Miquelon            -5.152083  -2.133750  -0.276667   \n",
       "South Sudan                                   26.382917  25.572500  25.743333   \n",
       "Western Sahara                                14.366250  16.211250  18.001667   \n",
       "Sao Tome and Principe                         26.849167  27.046250  26.746667   \n",
       "\n",
       "                                                1/25/20    1/26/20    1/27/20  \\\n",
       "Country/Region                                                                  \n",
       "Afghanistan                                    9.908750   9.908750   9.908750   \n",
       "Albania                                        6.367500   6.367500   6.367500   \n",
       "Algeria                                       22.660417  22.660417  22.660417   \n",
       "Andorra                                        5.491667   5.491667   5.491667   \n",
       "Angola                                        22.600833  22.600833  22.600833   \n",
       "...                                                 ...        ...        ...   \n",
       "United Kingdom / Falkland Islands (Malvinas)  10.304583   9.682083  10.842083   \n",
       "France / Saint Pierre and Miquelon            -3.060417  -0.559583   1.756667   \n",
       "South Sudan                                   27.002083  28.325833  27.887500   \n",
       "Western Sahara                                18.052500  17.400417  17.236667   \n",
       "Sao Tome and Principe                         26.637917  26.914167  26.887083   \n",
       "\n",
       "                                                1/28/20    1/29/20    1/30/20  \\\n",
       "Country/Region                                                                  \n",
       "Afghanistan                                    9.908750   9.908750   9.908750   \n",
       "Albania                                        6.367500   6.367500   6.367500   \n",
       "Algeria                                       22.660417  22.660417  22.660417   \n",
       "Andorra                                        5.491667   5.491667   5.491667   \n",
       "Angola                                        22.600833  22.600833  22.600833   \n",
       "...                                                 ...        ...        ...   \n",
       "United Kingdom / Falkland Islands (Malvinas)  10.640833   9.503333  11.476250   \n",
       "France / Saint Pierre and Miquelon            -0.192917  -1.829167  -2.558333   \n",
       "South Sudan                                   26.995000  27.057917  27.706250   \n",
       "Western Sahara                                20.045000  21.201667  19.498750   \n",
       "Sao Tome and Principe                         26.918750  27.235833  27.305417   \n",
       "\n",
       "                                                1/31/20  ...    3/28/20  \\\n",
       "Country/Region                                           ...              \n",
       "Afghanistan                                    9.908750  ...  10.565417   \n",
       "Albania                                        6.367500  ...   9.703750   \n",
       "Algeria                                       22.660417  ...  21.827500   \n",
       "Andorra                                        5.491667  ...   4.810833   \n",
       "Angola                                        22.600833  ...  21.690417   \n",
       "...                                                 ...  ...        ...   \n",
       "United Kingdom / Falkland Islands (Malvinas)  11.237500  ...   8.685833   \n",
       "France / Saint Pierre and Miquelon            -3.030417  ...   0.162500   \n",
       "South Sudan                                   28.875833  ...  31.667500   \n",
       "Western Sahara                                18.992917  ...  18.437500   \n",
       "Sao Tome and Principe                         26.985417  ...  27.483333   \n",
       "\n",
       "                                                3/29/20    3/30/20    3/31/20  \\\n",
       "Country/Region                                                                  \n",
       "Afghanistan                                    9.917917   9.151250  10.402917   \n",
       "Albania                                       10.900435  12.275000  11.800833   \n",
       "Algeria                                       20.328750  19.546667  22.023333   \n",
       "Andorra                                        5.715652   3.038750   4.783333   \n",
       "Angola                                        20.260833  22.230417  23.409583   \n",
       "...                                                 ...        ...        ...   \n",
       "United Kingdom / Falkland Islands (Malvinas)   8.895417   9.725000  10.280833   \n",
       "France / Saint Pierre and Miquelon             0.380000  -0.300000   1.207500   \n",
       "South Sudan                                   31.646250  31.308333  31.023333   \n",
       "Western Sahara                                19.275833  20.971250  23.773750   \n",
       "Sao Tome and Principe                         27.434167  27.817917  27.986667   \n",
       "\n",
       "                                                 4/1/20     4/2/20     4/3/20  \\\n",
       "Country/Region                                                                  \n",
       "Afghanistan                                   10.455833  11.140417  14.014583   \n",
       "Albania                                        6.099167   5.885833   8.513750   \n",
       "Algeria                                       23.765000  24.420833  22.214167   \n",
       "Andorra                                        6.207500   5.969583   5.847917   \n",
       "Angola                                        23.860417  21.522917  21.160833   \n",
       "...                                                 ...        ...        ...   \n",
       "United Kingdom / Falkland Islands (Malvinas)   9.455417  10.623333  11.520417   \n",
       "France / Saint Pierre and Miquelon             3.360417   3.341250   2.525000   \n",
       "South Sudan                                   31.995000  33.312500  33.655000   \n",
       "Western Sahara                                24.073750  24.551667  23.005000   \n",
       "Sao Tome and Principe                         28.077083  27.659167  27.574167   \n",
       "\n",
       "                                                 4/4/20     4/5/20     4/6/20  \n",
       "Country/Region                                                                 \n",
       "Afghanistan                                   12.852083  13.083333  11.259167  \n",
       "Albania                                       11.061250  11.970000  12.524583  \n",
       "Algeria                                       21.802500  22.341250  23.265000  \n",
       "Andorra                                        7.210417   7.164583   8.049583  \n",
       "Angola                                        21.392500  21.601667  22.343333  \n",
       "...                                                 ...        ...        ...  \n",
       "United Kingdom / Falkland Islands (Malvinas)   8.635000   9.220417   8.089583  \n",
       "France / Saint Pierre and Miquelon             0.357500   0.003750   0.393333  \n",
       "South Sudan                                   32.891250  30.714167  30.900417  \n",
       "Western Sahara                                21.618333  23.677500  25.290417  \n",
       "Sao Tome and Principe                         26.352083  27.465417  27.490833  \n",
       "\n",
       "[226 rows x 76 columns]"
      ]
     },
     "execution_count": 30,
     "metadata": {},
     "output_type": "execute_result"
    }
   ],
   "source": [
    "THW[0]"
   ]
  },
  {
   "cell_type": "markdown",
   "metadata": {},
   "source": [
    "## Download population data from Worldometer"
   ]
  },
  {
   "cell_type": "code",
   "execution_count": 31,
   "metadata": {},
   "outputs": [
    {
     "name": "stdout",
     "output_type": "stream",
     "text": [
      "Population data saved @ /data/COVID-19/covid19/data/population/populations_raw.csv\n"
     ]
    },
    {
     "data": {
      "text/plain": [
       "'/data/COVID-19/covid19/data/population/populations_raw.csv'"
      ]
     },
     "execution_count": 31,
     "metadata": {},
     "output_type": "execute_result"
    }
   ],
   "source": [
    "collect.population()"
   ]
  },
  {
   "cell_type": "code",
   "execution_count": 32,
   "metadata": {},
   "outputs": [
    {
     "name": "stdout",
     "output_type": "stream",
     "text": [
      "Number of unmatched regions : 46\n",
      "Population data saved @ /data/COVID-19/covid19/data/population/populations.csv\n"
     ]
    },
    {
     "data": {
      "text/plain": [
       "180"
      ]
     },
     "execution_count": 32,
     "metadata": {},
     "output_type": "execute_result"
    }
   ],
   "source": [
    "pop = transform.population()\n",
    "len(pop)"
   ]
  },
  {
   "cell_type": "code",
   "execution_count": 33,
   "metadata": {},
   "outputs": [
    {
     "data": {
      "text/html": [
       "<div>\n",
       "<style scoped>\n",
       "    .dataframe tbody tr th:only-of-type {\n",
       "        vertical-align: middle;\n",
       "    }\n",
       "\n",
       "    .dataframe tbody tr th {\n",
       "        vertical-align: top;\n",
       "    }\n",
       "\n",
       "    .dataframe thead th {\n",
       "        text-align: right;\n",
       "    }\n",
       "</style>\n",
       "<table border=\"1\" class=\"dataframe\">\n",
       "  <thead>\n",
       "    <tr style=\"text-align: right;\">\n",
       "      <th></th>\n",
       "      <th>Population</th>\n",
       "    </tr>\n",
       "  </thead>\n",
       "  <tbody>\n",
       "    <tr>\n",
       "      <th>Australia / New South Wales</th>\n",
       "      <td>8117976</td>\n",
       "    </tr>\n",
       "    <tr>\n",
       "      <th>Australia / Queensland</th>\n",
       "      <td>5115451</td>\n",
       "    </tr>\n",
       "    <tr>\n",
       "      <th>Australia / South Australia</th>\n",
       "      <td>1756494</td>\n",
       "    </tr>\n",
       "    <tr>\n",
       "      <th>Australia / Victoria</th>\n",
       "      <td>6629870</td>\n",
       "    </tr>\n",
       "    <tr>\n",
       "      <th>Australia / Western Australia</th>\n",
       "      <td>2630557</td>\n",
       "    </tr>\n",
       "    <tr>\n",
       "      <th>...</th>\n",
       "      <td>...</td>\n",
       "    </tr>\n",
       "    <tr>\n",
       "      <th>Burundi</th>\n",
       "      <td>11890784</td>\n",
       "    </tr>\n",
       "    <tr>\n",
       "      <th>Sierra Leone</th>\n",
       "      <td>7976983</td>\n",
       "    </tr>\n",
       "    <tr>\n",
       "      <th>Malawi</th>\n",
       "      <td>19129952</td>\n",
       "    </tr>\n",
       "    <tr>\n",
       "      <th>South Sudan</th>\n",
       "      <td>11193725</td>\n",
       "    </tr>\n",
       "    <tr>\n",
       "      <th>Western Sahara</th>\n",
       "      <td>597339</td>\n",
       "    </tr>\n",
       "  </tbody>\n",
       "</table>\n",
       "<p>180 rows × 1 columns</p>\n",
       "</div>"
      ],
      "text/plain": [
       "                               Population\n",
       "Australia / New South Wales       8117976\n",
       "Australia / Queensland            5115451\n",
       "Australia / South Australia       1756494\n",
       "Australia / Victoria              6629870\n",
       "Australia / Western Australia     2630557\n",
       "...                                   ...\n",
       "Burundi                          11890784\n",
       "Sierra Leone                      7976983\n",
       "Malawi                           19129952\n",
       "South Sudan                      11193725\n",
       "Western Sahara                     597339\n",
       "\n",
       "[180 rows x 1 columns]"
      ]
     },
     "execution_count": 33,
     "metadata": {},
     "output_type": "execute_result"
    }
   ],
   "source": [
    "pop"
   ]
  },
  {
   "cell_type": "markdown",
   "metadata": {},
   "source": [
    "## Dowload testing data from Wikipedia (changes daily)\n",
    "\n",
    "Test data does not have Australia split up. \n",
    "\n",
    "It does have Canada split up but using abbreviations."
   ]
  },
  {
   "cell_type": "code",
   "execution_count": 24,
   "metadata": {},
   "outputs": [
    {
     "name": "stdout",
     "output_type": "stream",
     "text": [
      "Raw Testing data saved @ /data/COVID-19/covid19/data/test_rate/test_rate_raw_2020-04-06.csv\n"
     ]
    }
   ],
   "source": [
    "test_fp = collect.testing()"
   ]
  },
  {
   "cell_type": "code",
   "execution_count": 25,
   "metadata": {},
   "outputs": [
    {
     "ename": "KeyError",
     "evalue": "\"['China:  Guangdong'] not found in axis\"",
     "output_type": "error",
     "traceback": [
      "\u001b[0;31m---------------------------------------------------------------------------\u001b[0m",
      "\u001b[0;31mKeyError\u001b[0m                                  Traceback (most recent call last)",
      "\u001b[0;32m<ipython-input-25-92d52870d138>\u001b[0m in \u001b[0;36m<module>\u001b[0;34m\u001b[0m\n\u001b[0;32m----> 1\u001b[0;31m \u001b[0mtest\u001b[0m \u001b[0;34m=\u001b[0m \u001b[0mtransform\u001b[0m\u001b[0;34m.\u001b[0m\u001b[0mtesting\u001b[0m\u001b[0;34m(\u001b[0m\u001b[0;34m)\u001b[0m\u001b[0;34m\u001b[0m\u001b[0;34m\u001b[0m\u001b[0m\n\u001b[0m",
      "\u001b[0;32m~data/COVID-19/covid19/scripts/transform_data.py\u001b[0m in \u001b[0;36mtesting\u001b[0;34m()\u001b[0m\n\u001b[1;32m    173\u001b[0m \u001b[0;34m\u001b[0m\u001b[0m\n\u001b[1;32m    174\u001b[0m     \u001b[0;31m# Drop Countries with bad data or sub-regions\u001b[0m\u001b[0;34m\u001b[0m\u001b[0;34m\u001b[0m\u001b[0;34m\u001b[0m\u001b[0m\n\u001b[0;32m--> 175\u001b[0;31m     \u001b[0mtest\u001b[0m\u001b[0;34m.\u001b[0m\u001b[0mdrop\u001b[0m\u001b[0;34m(\u001b[0m\u001b[0;34m[\u001b[0m\u001b[0;34m'China:  Guangdong'\u001b[0m\u001b[0;34m,\u001b[0m \u001b[0;34m'Kazakhstan'\u001b[0m\u001b[0;34m,\u001b[0m \u001b[0;34m'Palestine'\u001b[0m\u001b[0;34m]\u001b[0m\u001b[0;34m,\u001b[0m \u001b[0minplace\u001b[0m\u001b[0;34m=\u001b[0m\u001b[0;32mTrue\u001b[0m\u001b[0;34m)\u001b[0m\u001b[0;34m\u001b[0m\u001b[0;34m\u001b[0m\u001b[0m\n\u001b[0m\u001b[1;32m    176\u001b[0m     \u001b[0mtest\u001b[0m\u001b[0;34m.\u001b[0m\u001b[0mdrop\u001b[0m\u001b[0;34m(\u001b[0m\u001b[0;34m[\u001b[0m\u001b[0mx\u001b[0m \u001b[0;32mfor\u001b[0m \u001b[0mx\u001b[0m \u001b[0;32min\u001b[0m \u001b[0mtest\u001b[0m\u001b[0;34m.\u001b[0m\u001b[0mindex\u001b[0m \u001b[0;32mif\u001b[0m \u001b[0;34m':'\u001b[0m \u001b[0;32min\u001b[0m \u001b[0mx\u001b[0m\u001b[0;34m]\u001b[0m\u001b[0;34m,\u001b[0m \u001b[0minplace\u001b[0m\u001b[0;34m=\u001b[0m\u001b[0;32mTrue\u001b[0m\u001b[0;34m)\u001b[0m\u001b[0;34m\u001b[0m\u001b[0;34m\u001b[0m\u001b[0m\n\u001b[1;32m    177\u001b[0m     \u001b[0;31m# Convert data to numeric and calculate test rate\u001b[0m\u001b[0;34m\u001b[0m\u001b[0;34m\u001b[0m\u001b[0;34m\u001b[0m\u001b[0m\n",
      "\u001b[0;32m~.local/lib/python3.6/site-packages/pandas/core/frame.py\u001b[0m in \u001b[0;36mdrop\u001b[0;34m(self, labels, axis, index, columns, level, inplace, errors)\u001b[0m\n\u001b[1;32m   3992\u001b[0m             \u001b[0mlevel\u001b[0m\u001b[0;34m=\u001b[0m\u001b[0mlevel\u001b[0m\u001b[0;34m,\u001b[0m\u001b[0;34m\u001b[0m\u001b[0;34m\u001b[0m\u001b[0m\n\u001b[1;32m   3993\u001b[0m             \u001b[0minplace\u001b[0m\u001b[0;34m=\u001b[0m\u001b[0minplace\u001b[0m\u001b[0;34m,\u001b[0m\u001b[0;34m\u001b[0m\u001b[0;34m\u001b[0m\u001b[0m\n\u001b[0;32m-> 3994\u001b[0;31m             \u001b[0merrors\u001b[0m\u001b[0;34m=\u001b[0m\u001b[0merrors\u001b[0m\u001b[0;34m,\u001b[0m\u001b[0;34m\u001b[0m\u001b[0;34m\u001b[0m\u001b[0m\n\u001b[0m\u001b[1;32m   3995\u001b[0m         )\n\u001b[1;32m   3996\u001b[0m \u001b[0;34m\u001b[0m\u001b[0m\n",
      "\u001b[0;32m~.local/lib/python3.6/site-packages/pandas/core/generic.py\u001b[0m in \u001b[0;36mdrop\u001b[0;34m(self, labels, axis, index, columns, level, inplace, errors)\u001b[0m\n\u001b[1;32m   3933\u001b[0m         \u001b[0;32mfor\u001b[0m \u001b[0maxis\u001b[0m\u001b[0;34m,\u001b[0m \u001b[0mlabels\u001b[0m \u001b[0;32min\u001b[0m \u001b[0maxes\u001b[0m\u001b[0;34m.\u001b[0m\u001b[0mitems\u001b[0m\u001b[0;34m(\u001b[0m\u001b[0;34m)\u001b[0m\u001b[0;34m:\u001b[0m\u001b[0;34m\u001b[0m\u001b[0;34m\u001b[0m\u001b[0m\n\u001b[1;32m   3934\u001b[0m             \u001b[0;32mif\u001b[0m \u001b[0mlabels\u001b[0m \u001b[0;32mis\u001b[0m \u001b[0;32mnot\u001b[0m \u001b[0;32mNone\u001b[0m\u001b[0;34m:\u001b[0m\u001b[0;34m\u001b[0m\u001b[0;34m\u001b[0m\u001b[0m\n\u001b[0;32m-> 3935\u001b[0;31m                 \u001b[0mobj\u001b[0m \u001b[0;34m=\u001b[0m \u001b[0mobj\u001b[0m\u001b[0;34m.\u001b[0m\u001b[0m_drop_axis\u001b[0m\u001b[0;34m(\u001b[0m\u001b[0mlabels\u001b[0m\u001b[0;34m,\u001b[0m \u001b[0maxis\u001b[0m\u001b[0;34m,\u001b[0m \u001b[0mlevel\u001b[0m\u001b[0;34m=\u001b[0m\u001b[0mlevel\u001b[0m\u001b[0;34m,\u001b[0m \u001b[0merrors\u001b[0m\u001b[0;34m=\u001b[0m\u001b[0merrors\u001b[0m\u001b[0;34m)\u001b[0m\u001b[0;34m\u001b[0m\u001b[0;34m\u001b[0m\u001b[0m\n\u001b[0m\u001b[1;32m   3936\u001b[0m \u001b[0;34m\u001b[0m\u001b[0m\n\u001b[1;32m   3937\u001b[0m         \u001b[0;32mif\u001b[0m \u001b[0minplace\u001b[0m\u001b[0;34m:\u001b[0m\u001b[0;34m\u001b[0m\u001b[0;34m\u001b[0m\u001b[0m\n",
      "\u001b[0;32m~.local/lib/python3.6/site-packages/pandas/core/generic.py\u001b[0m in \u001b[0;36m_drop_axis\u001b[0;34m(self, labels, axis, level, errors)\u001b[0m\n\u001b[1;32m   3967\u001b[0m                 \u001b[0mnew_axis\u001b[0m \u001b[0;34m=\u001b[0m \u001b[0maxis\u001b[0m\u001b[0;34m.\u001b[0m\u001b[0mdrop\u001b[0m\u001b[0;34m(\u001b[0m\u001b[0mlabels\u001b[0m\u001b[0;34m,\u001b[0m \u001b[0mlevel\u001b[0m\u001b[0;34m=\u001b[0m\u001b[0mlevel\u001b[0m\u001b[0;34m,\u001b[0m \u001b[0merrors\u001b[0m\u001b[0;34m=\u001b[0m\u001b[0merrors\u001b[0m\u001b[0;34m)\u001b[0m\u001b[0;34m\u001b[0m\u001b[0;34m\u001b[0m\u001b[0m\n\u001b[1;32m   3968\u001b[0m             \u001b[0;32melse\u001b[0m\u001b[0;34m:\u001b[0m\u001b[0;34m\u001b[0m\u001b[0;34m\u001b[0m\u001b[0m\n\u001b[0;32m-> 3969\u001b[0;31m                 \u001b[0mnew_axis\u001b[0m \u001b[0;34m=\u001b[0m \u001b[0maxis\u001b[0m\u001b[0;34m.\u001b[0m\u001b[0mdrop\u001b[0m\u001b[0;34m(\u001b[0m\u001b[0mlabels\u001b[0m\u001b[0;34m,\u001b[0m \u001b[0merrors\u001b[0m\u001b[0;34m=\u001b[0m\u001b[0merrors\u001b[0m\u001b[0;34m)\u001b[0m\u001b[0;34m\u001b[0m\u001b[0;34m\u001b[0m\u001b[0m\n\u001b[0m\u001b[1;32m   3970\u001b[0m             \u001b[0mresult\u001b[0m \u001b[0;34m=\u001b[0m \u001b[0mself\u001b[0m\u001b[0;34m.\u001b[0m\u001b[0mreindex\u001b[0m\u001b[0;34m(\u001b[0m\u001b[0;34m**\u001b[0m\u001b[0;34m{\u001b[0m\u001b[0maxis_name\u001b[0m\u001b[0;34m:\u001b[0m \u001b[0mnew_axis\u001b[0m\u001b[0;34m}\u001b[0m\u001b[0;34m)\u001b[0m\u001b[0;34m\u001b[0m\u001b[0;34m\u001b[0m\u001b[0m\n\u001b[1;32m   3971\u001b[0m \u001b[0;34m\u001b[0m\u001b[0m\n",
      "\u001b[0;32m~.local/lib/python3.6/site-packages/pandas/core/indexes/base.py\u001b[0m in \u001b[0;36mdrop\u001b[0;34m(self, labels, errors)\u001b[0m\n\u001b[1;32m   5016\u001b[0m         \u001b[0;32mif\u001b[0m \u001b[0mmask\u001b[0m\u001b[0;34m.\u001b[0m\u001b[0many\u001b[0m\u001b[0;34m(\u001b[0m\u001b[0;34m)\u001b[0m\u001b[0;34m:\u001b[0m\u001b[0;34m\u001b[0m\u001b[0;34m\u001b[0m\u001b[0m\n\u001b[1;32m   5017\u001b[0m             \u001b[0;32mif\u001b[0m \u001b[0merrors\u001b[0m \u001b[0;34m!=\u001b[0m \u001b[0;34m\"ignore\"\u001b[0m\u001b[0;34m:\u001b[0m\u001b[0;34m\u001b[0m\u001b[0;34m\u001b[0m\u001b[0m\n\u001b[0;32m-> 5018\u001b[0;31m                 \u001b[0;32mraise\u001b[0m \u001b[0mKeyError\u001b[0m\u001b[0;34m(\u001b[0m\u001b[0;34mf\"{labels[mask]} not found in axis\"\u001b[0m\u001b[0;34m)\u001b[0m\u001b[0;34m\u001b[0m\u001b[0;34m\u001b[0m\u001b[0m\n\u001b[0m\u001b[1;32m   5019\u001b[0m             \u001b[0mindexer\u001b[0m \u001b[0;34m=\u001b[0m \u001b[0mindexer\u001b[0m\u001b[0;34m[\u001b[0m\u001b[0;34m~\u001b[0m\u001b[0mmask\u001b[0m\u001b[0;34m]\u001b[0m\u001b[0;34m\u001b[0m\u001b[0;34m\u001b[0m\u001b[0m\n\u001b[1;32m   5020\u001b[0m         \u001b[0;32mreturn\u001b[0m \u001b[0mself\u001b[0m\u001b[0;34m.\u001b[0m\u001b[0mdelete\u001b[0m\u001b[0;34m(\u001b[0m\u001b[0mindexer\u001b[0m\u001b[0;34m)\u001b[0m\u001b[0;34m\u001b[0m\u001b[0;34m\u001b[0m\u001b[0m\n",
      "\u001b[0;31mKeyError\u001b[0m: \"['China:  Guangdong'] not found in axis\""
     ]
    }
   ],
   "source": [
    "test = transform.testing()"
   ]
  },
  {
   "cell_type": "code",
   "execution_count": null,
   "metadata": {},
   "outputs": [],
   "source": [
    "test"
   ]
  },
  {
   "cell_type": "markdown",
   "metadata": {},
   "source": [
    "## Take the intersection of all the DataFrames based on region (in place)"
   ]
  },
  {
   "cell_type": "code",
   "execution_count": 51,
   "metadata": {},
   "outputs": [
    {
     "data": {
      "text/plain": [
       "(63, 63)"
      ]
     },
     "execution_count": 51,
     "metadata": {},
     "output_type": "execute_result"
    }
   ],
   "source": [
    "keep = transform.intersect_dfs([test, pop, *THW, *IRD])\n",
    "len(keep), len(pop)"
   ]
  },
  {
   "cell_type": "markdown",
   "metadata": {},
   "source": [
    "# Now all our data in downloaded and transformed into nice DataFrames of the same size"
   ]
  },
  {
   "cell_type": "markdown",
   "metadata": {},
   "source": [
    "|     |     |     |     |     |     |     |     |\n",
    "|-----|-----|-----|-----|-----|-----|-----|-----|\n",
    "|Infected |Recovered | Deaths | Population | Temperature | Humidity | Wind Speed | Test Rate |\n",
    "|IRD[0] | IRD[1] | IRD[2] | pop| THW[0] | THW[1] | THW[2] | test "
   ]
  },
  {
   "cell_type": "code",
   "execution_count": null,
   "metadata": {},
   "outputs": [],
   "source": []
  }
 ],
 "metadata": {
  "kernelspec": {
   "display_name": "Python 3",
   "language": "python",
   "name": "python3"
  },
  "language_info": {
   "codemirror_mode": {
    "name": "ipython",
    "version": 3
   },
   "file_extension": ".py",
   "mimetype": "text/x-python",
   "name": "python",
   "nbconvert_exporter": "python",
   "pygments_lexer": "ipython3",
   "version": "3.6.8"
  }
 },
 "nbformat": 4,
 "nbformat_minor": 2
}
