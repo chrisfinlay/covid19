{
 "cells": [
  {
   "cell_type": "code",
   "execution_count": 37,
   "metadata": {},
   "outputs": [],
   "source": [
    "import os, sys\n",
    "sys.path.append(os.path.split(os.getcwd())[0])"
   ]
  },
  {
   "cell_type": "code",
   "execution_count": 38,
   "metadata": {},
   "outputs": [],
   "source": [
    "import scripts.collect_data as collect\n",
    "import scripts.transform_data as transform\n",
    "import matplotlib.pyplot as plt\n",
    "import pandas as pd\n",
    "import numpy as np"
   ]
  },
  {
   "cell_type": "markdown",
   "metadata": {},
   "source": [
    "# Download and transform data associated with models"
   ]
  },
  {
   "cell_type": "markdown",
   "metadata": {},
   "source": [
    "|     |     |     |     |     |     |     |     |\n",
    "|-----|-----|-----|-----|-----|-----|-----|-----|\n",
    "|Infected |Recovered | Deaths | Population | Temperature | Humidity | Wind Speed | Test Rate |\n",
    "|IRD[0] | IRD[1] | IRD[2] | pop| THW[0] | THW[1] | THW[2] | test "
   ]
  },
  {
   "cell_type": "markdown",
   "metadata": {},
   "source": [
    "## Download John's Hopkins Infection, Recovery and Death data"
   ]
  },
  {
   "cell_type": "code",
   "execution_count": 39,
   "metadata": {},
   "outputs": [
    {
     "name": "stdout",
     "output_type": "stream",
     "text": [
      "Infection, Recovery and Death data saved @ /data/COVID-19/covid19/data/IRD\n"
     ]
    },
    {
     "data": {
      "text/plain": [
       "'/data/COVID-19/covid19/data/IRD'"
      ]
     },
     "execution_count": 39,
     "metadata": {},
     "output_type": "execute_result"
    }
   ],
   "source": [
    "collect.IRD()"
   ]
  },
  {
   "cell_type": "code",
   "execution_count": 40,
   "metadata": {},
   "outputs": [],
   "source": [
    "IRD = transform.IRD(min_confirmed=100, min_recovered=0, min_deaths=0)"
   ]
  },
  {
   "cell_type": "markdown",
   "metadata": {},
   "source": [
    "## Download weather data using Dark Sky API (max 1000/day)"
   ]
  },
  {
   "cell_type": "code",
   "execution_count": 41,
   "metadata": {},
   "outputs": [
    {
     "name": "stderr",
     "output_type": "stream",
     "text": [
      "100%|██████████| 264/264 [13:13<00:00,  3.01s/it]"
     ]
    },
    {
     "name": "stdout",
     "output_type": "stream",
     "text": [
      "Weather data saved @ /data/COVID-19/covid19/data/weather/json/\n"
     ]
    },
    {
     "name": "stderr",
     "output_type": "stream",
     "text": [
      "\n"
     ]
    },
    {
     "data": {
      "text/plain": [
       "'/data/COVID-19/covid19/data/weather/json/'"
      ]
     },
     "execution_count": 41,
     "metadata": {},
     "output_type": "execute_result"
    }
   ],
   "source": [
    "collect.weather()"
   ]
  },
  {
   "cell_type": "code",
   "execution_count": 42,
   "metadata": {},
   "outputs": [
    {
     "name": "stderr",
     "output_type": "stream",
     "text": [
      "100%|██████████| 264/264 [00:20<00:00, 12.64it/s]\n"
     ]
    },
    {
     "name": "stdout",
     "output_type": "stream",
     "text": [
      "Weather data saved @ /data/COVID-19/covid19/data/weather\n"
     ]
    }
   ],
   "source": [
    "THW = transform.weather(update=True)"
   ]
  },
  {
   "cell_type": "code",
   "execution_count": 43,
   "metadata": {},
   "outputs": [
    {
     "data": {
      "text/html": [
       "<div>\n",
       "<style scoped>\n",
       "    .dataframe tbody tr th:only-of-type {\n",
       "        vertical-align: middle;\n",
       "    }\n",
       "\n",
       "    .dataframe tbody tr th {\n",
       "        vertical-align: top;\n",
       "    }\n",
       "\n",
       "    .dataframe thead th {\n",
       "        text-align: right;\n",
       "    }\n",
       "</style>\n",
       "<table border=\"1\" class=\"dataframe\">\n",
       "  <thead>\n",
       "    <tr style=\"text-align: right;\">\n",
       "      <th></th>\n",
       "      <th>1/22/20</th>\n",
       "      <th>1/23/20</th>\n",
       "      <th>1/24/20</th>\n",
       "      <th>1/25/20</th>\n",
       "      <th>1/26/20</th>\n",
       "      <th>1/27/20</th>\n",
       "      <th>1/28/20</th>\n",
       "      <th>1/29/20</th>\n",
       "      <th>1/30/20</th>\n",
       "      <th>1/31/20</th>\n",
       "      <th>...</th>\n",
       "      <th>4/1/20</th>\n",
       "      <th>4/2/20</th>\n",
       "      <th>4/3/20</th>\n",
       "      <th>4/4/20</th>\n",
       "      <th>4/5/20</th>\n",
       "      <th>4/6/20</th>\n",
       "      <th>4/7/20</th>\n",
       "      <th>4/8/20</th>\n",
       "      <th>4/9/20</th>\n",
       "      <th>4/10/20</th>\n",
       "    </tr>\n",
       "    <tr>\n",
       "      <th>Country/Region</th>\n",
       "      <th></th>\n",
       "      <th></th>\n",
       "      <th></th>\n",
       "      <th></th>\n",
       "      <th></th>\n",
       "      <th></th>\n",
       "      <th></th>\n",
       "      <th></th>\n",
       "      <th></th>\n",
       "      <th></th>\n",
       "      <th></th>\n",
       "      <th></th>\n",
       "      <th></th>\n",
       "      <th></th>\n",
       "      <th></th>\n",
       "      <th></th>\n",
       "      <th></th>\n",
       "      <th></th>\n",
       "      <th></th>\n",
       "      <th></th>\n",
       "      <th></th>\n",
       "    </tr>\n",
       "  </thead>\n",
       "  <tbody>\n",
       "    <tr>\n",
       "      <th>Afghanistan</th>\n",
       "      <td>9.908750</td>\n",
       "      <td>9.908750</td>\n",
       "      <td>9.908750</td>\n",
       "      <td>9.908750</td>\n",
       "      <td>9.908750</td>\n",
       "      <td>9.908750</td>\n",
       "      <td>9.908750</td>\n",
       "      <td>9.908750</td>\n",
       "      <td>9.908750</td>\n",
       "      <td>9.908750</td>\n",
       "      <td>...</td>\n",
       "      <td>10.455833</td>\n",
       "      <td>11.140417</td>\n",
       "      <td>14.014583</td>\n",
       "      <td>12.852083</td>\n",
       "      <td>13.083333</td>\n",
       "      <td>11.259167</td>\n",
       "      <td>11.865833</td>\n",
       "      <td>13.893333</td>\n",
       "      <td>13.997917</td>\n",
       "      <td>14.586250</td>\n",
       "    </tr>\n",
       "    <tr>\n",
       "      <th>Albania</th>\n",
       "      <td>6.367500</td>\n",
       "      <td>6.367500</td>\n",
       "      <td>6.367500</td>\n",
       "      <td>6.367500</td>\n",
       "      <td>6.367500</td>\n",
       "      <td>6.367500</td>\n",
       "      <td>6.367500</td>\n",
       "      <td>6.367500</td>\n",
       "      <td>6.367500</td>\n",
       "      <td>6.367500</td>\n",
       "      <td>...</td>\n",
       "      <td>6.099167</td>\n",
       "      <td>5.885833</td>\n",
       "      <td>8.513750</td>\n",
       "      <td>11.061250</td>\n",
       "      <td>11.970000</td>\n",
       "      <td>12.524583</td>\n",
       "      <td>12.906667</td>\n",
       "      <td>13.200833</td>\n",
       "      <td>14.398750</td>\n",
       "      <td>15.447083</td>\n",
       "    </tr>\n",
       "    <tr>\n",
       "      <th>Algeria</th>\n",
       "      <td>22.660417</td>\n",
       "      <td>22.660417</td>\n",
       "      <td>22.660417</td>\n",
       "      <td>22.660417</td>\n",
       "      <td>22.660417</td>\n",
       "      <td>22.660417</td>\n",
       "      <td>22.660417</td>\n",
       "      <td>22.660417</td>\n",
       "      <td>22.660417</td>\n",
       "      <td>22.660417</td>\n",
       "      <td>...</td>\n",
       "      <td>23.765000</td>\n",
       "      <td>24.420833</td>\n",
       "      <td>22.214167</td>\n",
       "      <td>21.802500</td>\n",
       "      <td>22.341250</td>\n",
       "      <td>23.265000</td>\n",
       "      <td>24.711250</td>\n",
       "      <td>25.454167</td>\n",
       "      <td>25.868333</td>\n",
       "      <td>27.485000</td>\n",
       "    </tr>\n",
       "    <tr>\n",
       "      <th>Andorra</th>\n",
       "      <td>5.491667</td>\n",
       "      <td>5.491667</td>\n",
       "      <td>5.491667</td>\n",
       "      <td>5.491667</td>\n",
       "      <td>5.491667</td>\n",
       "      <td>5.491667</td>\n",
       "      <td>5.491667</td>\n",
       "      <td>5.491667</td>\n",
       "      <td>5.491667</td>\n",
       "      <td>5.491667</td>\n",
       "      <td>...</td>\n",
       "      <td>6.207500</td>\n",
       "      <td>5.969583</td>\n",
       "      <td>5.847917</td>\n",
       "      <td>7.210417</td>\n",
       "      <td>7.164583</td>\n",
       "      <td>8.049583</td>\n",
       "      <td>8.455417</td>\n",
       "      <td>9.774583</td>\n",
       "      <td>9.976667</td>\n",
       "      <td>10.343333</td>\n",
       "    </tr>\n",
       "    <tr>\n",
       "      <th>Angola</th>\n",
       "      <td>22.600833</td>\n",
       "      <td>22.600833</td>\n",
       "      <td>22.600833</td>\n",
       "      <td>22.600833</td>\n",
       "      <td>22.600833</td>\n",
       "      <td>22.600833</td>\n",
       "      <td>22.600833</td>\n",
       "      <td>22.600833</td>\n",
       "      <td>22.600833</td>\n",
       "      <td>22.600833</td>\n",
       "      <td>...</td>\n",
       "      <td>23.860417</td>\n",
       "      <td>21.522917</td>\n",
       "      <td>21.160833</td>\n",
       "      <td>21.392500</td>\n",
       "      <td>21.601667</td>\n",
       "      <td>22.343333</td>\n",
       "      <td>22.445417</td>\n",
       "      <td>21.167917</td>\n",
       "      <td>22.607917</td>\n",
       "      <td>20.617500</td>\n",
       "    </tr>\n",
       "    <tr>\n",
       "      <th>...</th>\n",
       "      <td>...</td>\n",
       "      <td>...</td>\n",
       "      <td>...</td>\n",
       "      <td>...</td>\n",
       "      <td>...</td>\n",
       "      <td>...</td>\n",
       "      <td>...</td>\n",
       "      <td>...</td>\n",
       "      <td>...</td>\n",
       "      <td>...</td>\n",
       "      <td>...</td>\n",
       "      <td>...</td>\n",
       "      <td>...</td>\n",
       "      <td>...</td>\n",
       "      <td>...</td>\n",
       "      <td>...</td>\n",
       "      <td>...</td>\n",
       "      <td>...</td>\n",
       "      <td>...</td>\n",
       "      <td>...</td>\n",
       "      <td>...</td>\n",
       "    </tr>\n",
       "    <tr>\n",
       "      <th>France / Saint Pierre and Miquelon</th>\n",
       "      <td>-5.152083</td>\n",
       "      <td>-2.133750</td>\n",
       "      <td>-0.276667</td>\n",
       "      <td>-3.060417</td>\n",
       "      <td>-0.559583</td>\n",
       "      <td>1.756667</td>\n",
       "      <td>-0.192917</td>\n",
       "      <td>-1.829167</td>\n",
       "      <td>-2.558333</td>\n",
       "      <td>-3.030417</td>\n",
       "      <td>...</td>\n",
       "      <td>3.360417</td>\n",
       "      <td>3.341250</td>\n",
       "      <td>2.525000</td>\n",
       "      <td>0.357500</td>\n",
       "      <td>0.003750</td>\n",
       "      <td>0.393333</td>\n",
       "      <td>NaN</td>\n",
       "      <td>NaN</td>\n",
       "      <td>NaN</td>\n",
       "      <td>NaN</td>\n",
       "    </tr>\n",
       "    <tr>\n",
       "      <th>South Sudan</th>\n",
       "      <td>26.382917</td>\n",
       "      <td>25.572500</td>\n",
       "      <td>25.743333</td>\n",
       "      <td>27.002083</td>\n",
       "      <td>28.325833</td>\n",
       "      <td>27.887500</td>\n",
       "      <td>26.995000</td>\n",
       "      <td>27.057917</td>\n",
       "      <td>27.706250</td>\n",
       "      <td>28.875833</td>\n",
       "      <td>...</td>\n",
       "      <td>31.995000</td>\n",
       "      <td>33.312500</td>\n",
       "      <td>33.655000</td>\n",
       "      <td>32.891250</td>\n",
       "      <td>30.714167</td>\n",
       "      <td>30.900417</td>\n",
       "      <td>NaN</td>\n",
       "      <td>NaN</td>\n",
       "      <td>NaN</td>\n",
       "      <td>NaN</td>\n",
       "    </tr>\n",
       "    <tr>\n",
       "      <th>Western Sahara</th>\n",
       "      <td>14.366250</td>\n",
       "      <td>16.211250</td>\n",
       "      <td>18.001667</td>\n",
       "      <td>18.052500</td>\n",
       "      <td>17.400417</td>\n",
       "      <td>17.236667</td>\n",
       "      <td>20.045000</td>\n",
       "      <td>21.201667</td>\n",
       "      <td>19.498750</td>\n",
       "      <td>18.992917</td>\n",
       "      <td>...</td>\n",
       "      <td>24.073750</td>\n",
       "      <td>24.551667</td>\n",
       "      <td>23.005000</td>\n",
       "      <td>21.618333</td>\n",
       "      <td>23.677500</td>\n",
       "      <td>25.290417</td>\n",
       "      <td>NaN</td>\n",
       "      <td>NaN</td>\n",
       "      <td>NaN</td>\n",
       "      <td>NaN</td>\n",
       "    </tr>\n",
       "    <tr>\n",
       "      <th>Sao Tome and Principe</th>\n",
       "      <td>26.849167</td>\n",
       "      <td>27.046250</td>\n",
       "      <td>26.746667</td>\n",
       "      <td>26.637917</td>\n",
       "      <td>26.914167</td>\n",
       "      <td>26.887083</td>\n",
       "      <td>26.918750</td>\n",
       "      <td>27.235833</td>\n",
       "      <td>27.305417</td>\n",
       "      <td>26.985417</td>\n",
       "      <td>...</td>\n",
       "      <td>28.077083</td>\n",
       "      <td>27.659167</td>\n",
       "      <td>27.574167</td>\n",
       "      <td>26.352083</td>\n",
       "      <td>27.465417</td>\n",
       "      <td>27.490833</td>\n",
       "      <td>NaN</td>\n",
       "      <td>NaN</td>\n",
       "      <td>NaN</td>\n",
       "      <td>NaN</td>\n",
       "    </tr>\n",
       "    <tr>\n",
       "      <th>Yemen</th>\n",
       "      <td>NaN</td>\n",
       "      <td>NaN</td>\n",
       "      <td>NaN</td>\n",
       "      <td>NaN</td>\n",
       "      <td>NaN</td>\n",
       "      <td>NaN</td>\n",
       "      <td>NaN</td>\n",
       "      <td>NaN</td>\n",
       "      <td>NaN</td>\n",
       "      <td>NaN</td>\n",
       "      <td>...</td>\n",
       "      <td>NaN</td>\n",
       "      <td>NaN</td>\n",
       "      <td>NaN</td>\n",
       "      <td>NaN</td>\n",
       "      <td>NaN</td>\n",
       "      <td>NaN</td>\n",
       "      <td>NaN</td>\n",
       "      <td>NaN</td>\n",
       "      <td>NaN</td>\n",
       "      <td>NaN</td>\n",
       "    </tr>\n",
       "  </tbody>\n",
       "</table>\n",
       "<p>227 rows × 80 columns</p>\n",
       "</div>"
      ],
      "text/plain": [
       "                                      1/22/20    1/23/20    1/24/20  \\\n",
       "Country/Region                                                        \n",
       "Afghanistan                          9.908750   9.908750   9.908750   \n",
       "Albania                              6.367500   6.367500   6.367500   \n",
       "Algeria                             22.660417  22.660417  22.660417   \n",
       "Andorra                              5.491667   5.491667   5.491667   \n",
       "Angola                              22.600833  22.600833  22.600833   \n",
       "...                                       ...        ...        ...   \n",
       "France / Saint Pierre and Miquelon  -5.152083  -2.133750  -0.276667   \n",
       "South Sudan                         26.382917  25.572500  25.743333   \n",
       "Western Sahara                      14.366250  16.211250  18.001667   \n",
       "Sao Tome and Principe               26.849167  27.046250  26.746667   \n",
       "Yemen                                     NaN        NaN        NaN   \n",
       "\n",
       "                                      1/25/20    1/26/20    1/27/20  \\\n",
       "Country/Region                                                        \n",
       "Afghanistan                          9.908750   9.908750   9.908750   \n",
       "Albania                              6.367500   6.367500   6.367500   \n",
       "Algeria                             22.660417  22.660417  22.660417   \n",
       "Andorra                              5.491667   5.491667   5.491667   \n",
       "Angola                              22.600833  22.600833  22.600833   \n",
       "...                                       ...        ...        ...   \n",
       "France / Saint Pierre and Miquelon  -3.060417  -0.559583   1.756667   \n",
       "South Sudan                         27.002083  28.325833  27.887500   \n",
       "Western Sahara                      18.052500  17.400417  17.236667   \n",
       "Sao Tome and Principe               26.637917  26.914167  26.887083   \n",
       "Yemen                                     NaN        NaN        NaN   \n",
       "\n",
       "                                      1/28/20    1/29/20    1/30/20  \\\n",
       "Country/Region                                                        \n",
       "Afghanistan                          9.908750   9.908750   9.908750   \n",
       "Albania                              6.367500   6.367500   6.367500   \n",
       "Algeria                             22.660417  22.660417  22.660417   \n",
       "Andorra                              5.491667   5.491667   5.491667   \n",
       "Angola                              22.600833  22.600833  22.600833   \n",
       "...                                       ...        ...        ...   \n",
       "France / Saint Pierre and Miquelon  -0.192917  -1.829167  -2.558333   \n",
       "South Sudan                         26.995000  27.057917  27.706250   \n",
       "Western Sahara                      20.045000  21.201667  19.498750   \n",
       "Sao Tome and Principe               26.918750  27.235833  27.305417   \n",
       "Yemen                                     NaN        NaN        NaN   \n",
       "\n",
       "                                      1/31/20  ...     4/1/20     4/2/20  \\\n",
       "Country/Region                                 ...                         \n",
       "Afghanistan                          9.908750  ...  10.455833  11.140417   \n",
       "Albania                              6.367500  ...   6.099167   5.885833   \n",
       "Algeria                             22.660417  ...  23.765000  24.420833   \n",
       "Andorra                              5.491667  ...   6.207500   5.969583   \n",
       "Angola                              22.600833  ...  23.860417  21.522917   \n",
       "...                                       ...  ...        ...        ...   \n",
       "France / Saint Pierre and Miquelon  -3.030417  ...   3.360417   3.341250   \n",
       "South Sudan                         28.875833  ...  31.995000  33.312500   \n",
       "Western Sahara                      18.992917  ...  24.073750  24.551667   \n",
       "Sao Tome and Principe               26.985417  ...  28.077083  27.659167   \n",
       "Yemen                                     NaN  ...        NaN        NaN   \n",
       "\n",
       "                                       4/3/20     4/4/20     4/5/20  \\\n",
       "Country/Region                                                        \n",
       "Afghanistan                         14.014583  12.852083  13.083333   \n",
       "Albania                              8.513750  11.061250  11.970000   \n",
       "Algeria                             22.214167  21.802500  22.341250   \n",
       "Andorra                              5.847917   7.210417   7.164583   \n",
       "Angola                              21.160833  21.392500  21.601667   \n",
       "...                                       ...        ...        ...   \n",
       "France / Saint Pierre and Miquelon   2.525000   0.357500   0.003750   \n",
       "South Sudan                         33.655000  32.891250  30.714167   \n",
       "Western Sahara                      23.005000  21.618333  23.677500   \n",
       "Sao Tome and Principe               27.574167  26.352083  27.465417   \n",
       "Yemen                                     NaN        NaN        NaN   \n",
       "\n",
       "                                       4/6/20     4/7/20     4/8/20  \\\n",
       "Country/Region                                                        \n",
       "Afghanistan                         11.259167  11.865833  13.893333   \n",
       "Albania                             12.524583  12.906667  13.200833   \n",
       "Algeria                             23.265000  24.711250  25.454167   \n",
       "Andorra                              8.049583   8.455417   9.774583   \n",
       "Angola                              22.343333  22.445417  21.167917   \n",
       "...                                       ...        ...        ...   \n",
       "France / Saint Pierre and Miquelon   0.393333        NaN        NaN   \n",
       "South Sudan                         30.900417        NaN        NaN   \n",
       "Western Sahara                      25.290417        NaN        NaN   \n",
       "Sao Tome and Principe               27.490833        NaN        NaN   \n",
       "Yemen                                     NaN        NaN        NaN   \n",
       "\n",
       "                                       4/9/20    4/10/20  \n",
       "Country/Region                                            \n",
       "Afghanistan                         13.997917  14.586250  \n",
       "Albania                             14.398750  15.447083  \n",
       "Algeria                             25.868333  27.485000  \n",
       "Andorra                              9.976667  10.343333  \n",
       "Angola                              22.607917  20.617500  \n",
       "...                                       ...        ...  \n",
       "France / Saint Pierre and Miquelon        NaN        NaN  \n",
       "South Sudan                               NaN        NaN  \n",
       "Western Sahara                            NaN        NaN  \n",
       "Sao Tome and Principe                     NaN        NaN  \n",
       "Yemen                                     NaN        NaN  \n",
       "\n",
       "[227 rows x 80 columns]"
      ]
     },
     "execution_count": 43,
     "metadata": {},
     "output_type": "execute_result"
    }
   ],
   "source": [
    "THW[0]"
   ]
  },
  {
   "cell_type": "markdown",
   "metadata": {},
   "source": [
    "## Download population data from Worldometer"
   ]
  },
  {
   "cell_type": "code",
   "execution_count": 44,
   "metadata": {},
   "outputs": [
    {
     "name": "stdout",
     "output_type": "stream",
     "text": [
      "Population data saved @ /data/COVID-19/covid19/data/population/populations_raw.csv\n"
     ]
    },
    {
     "data": {
      "text/plain": [
       "'/data/COVID-19/covid19/data/population/populations_raw.csv'"
      ]
     },
     "execution_count": 44,
     "metadata": {},
     "output_type": "execute_result"
    }
   ],
   "source": [
    "collect.population()"
   ]
  },
  {
   "cell_type": "code",
   "execution_count": 45,
   "metadata": {},
   "outputs": [
    {
     "name": "stdout",
     "output_type": "stream",
     "text": [
      "Number of unmatched regions : 46\n",
      "Population data saved @ /data/COVID-19/covid19/data/population/populations.csv\n"
     ]
    },
    {
     "data": {
      "text/plain": [
       "181"
      ]
     },
     "execution_count": 45,
     "metadata": {},
     "output_type": "execute_result"
    }
   ],
   "source": [
    "pop = transform.population()\n",
    "len(pop)"
   ]
  },
  {
   "cell_type": "code",
   "execution_count": 46,
   "metadata": {},
   "outputs": [
    {
     "data": {
      "text/html": [
       "<div>\n",
       "<style scoped>\n",
       "    .dataframe tbody tr th:only-of-type {\n",
       "        vertical-align: middle;\n",
       "    }\n",
       "\n",
       "    .dataframe tbody tr th {\n",
       "        vertical-align: top;\n",
       "    }\n",
       "\n",
       "    .dataframe thead th {\n",
       "        text-align: right;\n",
       "    }\n",
       "</style>\n",
       "<table border=\"1\" class=\"dataframe\">\n",
       "  <thead>\n",
       "    <tr style=\"text-align: right;\">\n",
       "      <th></th>\n",
       "      <th>Population</th>\n",
       "    </tr>\n",
       "  </thead>\n",
       "  <tbody>\n",
       "    <tr>\n",
       "      <th>Australia / New South Wales</th>\n",
       "      <td>8117976</td>\n",
       "    </tr>\n",
       "    <tr>\n",
       "      <th>Australia / Queensland</th>\n",
       "      <td>5115451</td>\n",
       "    </tr>\n",
       "    <tr>\n",
       "      <th>Australia / South Australia</th>\n",
       "      <td>1756494</td>\n",
       "    </tr>\n",
       "    <tr>\n",
       "      <th>Australia / Victoria</th>\n",
       "      <td>6629870</td>\n",
       "    </tr>\n",
       "    <tr>\n",
       "      <th>Australia / Western Australia</th>\n",
       "      <td>2630557</td>\n",
       "    </tr>\n",
       "    <tr>\n",
       "      <th>...</th>\n",
       "      <td>...</td>\n",
       "    </tr>\n",
       "    <tr>\n",
       "      <th>Sierra Leone</th>\n",
       "      <td>7976983</td>\n",
       "    </tr>\n",
       "    <tr>\n",
       "      <th>Malawi</th>\n",
       "      <td>19129952</td>\n",
       "    </tr>\n",
       "    <tr>\n",
       "      <th>South Sudan</th>\n",
       "      <td>11193725</td>\n",
       "    </tr>\n",
       "    <tr>\n",
       "      <th>Western Sahara</th>\n",
       "      <td>597339</td>\n",
       "    </tr>\n",
       "    <tr>\n",
       "      <th>Yemen</th>\n",
       "      <td>29825964</td>\n",
       "    </tr>\n",
       "  </tbody>\n",
       "</table>\n",
       "<p>181 rows × 1 columns</p>\n",
       "</div>"
      ],
      "text/plain": [
       "                               Population\n",
       "Australia / New South Wales       8117976\n",
       "Australia / Queensland            5115451\n",
       "Australia / South Australia       1756494\n",
       "Australia / Victoria              6629870\n",
       "Australia / Western Australia     2630557\n",
       "...                                   ...\n",
       "Sierra Leone                      7976983\n",
       "Malawi                           19129952\n",
       "South Sudan                      11193725\n",
       "Western Sahara                     597339\n",
       "Yemen                            29825964\n",
       "\n",
       "[181 rows x 1 columns]"
      ]
     },
     "execution_count": 46,
     "metadata": {},
     "output_type": "execute_result"
    }
   ],
   "source": [
    "pop"
   ]
  },
  {
   "cell_type": "markdown",
   "metadata": {},
   "source": [
    "## Dowload testing data from Wikipedia (changes daily)\n",
    "\n",
    "Test data does not have Australia split up. \n",
    "\n",
    "It does have Canada split up but using abbreviations."
   ]
  },
  {
   "cell_type": "code",
   "execution_count": 47,
   "metadata": {},
   "outputs": [
    {
     "ename": "ValueError",
     "evalue": "cannot copy sequence with size 7 to array axis with dimension 6",
     "output_type": "error",
     "traceback": [
      "\u001b[0;31m---------------------------------------------------------------------------\u001b[0m",
      "\u001b[0;31mValueError\u001b[0m                                Traceback (most recent call last)",
      "\u001b[0;32m<ipython-input-47-2ebd59c2d748>\u001b[0m in \u001b[0;36m<module>\u001b[0;34m\u001b[0m\n\u001b[0;32m----> 1\u001b[0;31m \u001b[0mtest_fp\u001b[0m \u001b[0;34m=\u001b[0m \u001b[0mcollect\u001b[0m\u001b[0;34m.\u001b[0m\u001b[0mtesting\u001b[0m\u001b[0;34m(\u001b[0m\u001b[0;34m)\u001b[0m\u001b[0;34m\u001b[0m\u001b[0;34m\u001b[0m\u001b[0m\n\u001b[0m",
      "\u001b[0;32m~data/COVID-19/covid19/scripts/collect_data.py\u001b[0m in \u001b[0;36mtesting\u001b[0;34m()\u001b[0m\n\u001b[1;32m    146\u001b[0m     \u001b[0;32mfor\u001b[0m \u001b[0mi\u001b[0m \u001b[0;32min\u001b[0m \u001b[0mrange\u001b[0m\u001b[0;34m(\u001b[0m\u001b[0mlen\u001b[0m\u001b[0;34m(\u001b[0m\u001b[0mtesting\u001b[0m\u001b[0;34m)\u001b[0m\u001b[0;34m)\u001b[0m\u001b[0;34m:\u001b[0m\u001b[0;34m\u001b[0m\u001b[0;34m\u001b[0m\u001b[0m\n\u001b[1;32m    147\u001b[0m         \u001b[0mrow_data\u001b[0m \u001b[0;34m=\u001b[0m \u001b[0mhtml_table\u001b[0m\u001b[0;34m.\u001b[0m\u001b[0mfind_all\u001b[0m\u001b[0;34m(\u001b[0m\u001b[0;34m'tr'\u001b[0m\u001b[0;34m)\u001b[0m\u001b[0;34m[\u001b[0m\u001b[0mi\u001b[0m\u001b[0;34m+\u001b[0m\u001b[0;36m1\u001b[0m\u001b[0;34m]\u001b[0m\u001b[0;34m.\u001b[0m\u001b[0mfind_all\u001b[0m\u001b[0;34m(\u001b[0m\u001b[0;34m'td'\u001b[0m\u001b[0;34m)\u001b[0m\u001b[0;34m\u001b[0m\u001b[0;34m\u001b[0m\u001b[0m\n\u001b[0;32m--> 148\u001b[0;31m         \u001b[0mtesting\u001b[0m\u001b[0;34m.\u001b[0m\u001b[0miloc\u001b[0m\u001b[0;34m[\u001b[0m\u001b[0mi\u001b[0m\u001b[0;34m]\u001b[0m \u001b[0;34m=\u001b[0m \u001b[0;34m[\u001b[0m\u001b[0mx\u001b[0m\u001b[0;34m.\u001b[0m\u001b[0mtext\u001b[0m\u001b[0;34m.\u001b[0m\u001b[0mrstrip\u001b[0m\u001b[0;34m(\u001b[0m\u001b[0;34m)\u001b[0m \u001b[0;32mfor\u001b[0m \u001b[0mx\u001b[0m \u001b[0;32min\u001b[0m \u001b[0mrow_data\u001b[0m\u001b[0;34m]\u001b[0m\u001b[0;34m\u001b[0m\u001b[0;34m\u001b[0m\u001b[0m\n\u001b[0m\u001b[1;32m    149\u001b[0m \u001b[0;34m\u001b[0m\u001b[0m\n\u001b[1;32m    150\u001b[0m     \u001b[0;31m# Save data with today's date as data changes daily\u001b[0m\u001b[0;34m\u001b[0m\u001b[0;34m\u001b[0m\u001b[0;34m\u001b[0m\u001b[0m\n",
      "\u001b[0;32m~.local/lib/python3.6/site-packages/pandas/core/indexing.py\u001b[0m in \u001b[0;36m__setitem__\u001b[0;34m(self, key, value)\u001b[0m\n\u001b[1;32m    668\u001b[0m             \u001b[0mkey\u001b[0m \u001b[0;34m=\u001b[0m \u001b[0mcom\u001b[0m\u001b[0;34m.\u001b[0m\u001b[0mapply_if_callable\u001b[0m\u001b[0;34m(\u001b[0m\u001b[0mkey\u001b[0m\u001b[0;34m,\u001b[0m \u001b[0mself\u001b[0m\u001b[0;34m.\u001b[0m\u001b[0mobj\u001b[0m\u001b[0;34m)\u001b[0m\u001b[0;34m\u001b[0m\u001b[0;34m\u001b[0m\u001b[0m\n\u001b[1;32m    669\u001b[0m         \u001b[0mindexer\u001b[0m \u001b[0;34m=\u001b[0m \u001b[0mself\u001b[0m\u001b[0;34m.\u001b[0m\u001b[0m_get_setitem_indexer\u001b[0m\u001b[0;34m(\u001b[0m\u001b[0mkey\u001b[0m\u001b[0;34m)\u001b[0m\u001b[0;34m\u001b[0m\u001b[0;34m\u001b[0m\u001b[0m\n\u001b[0;32m--> 670\u001b[0;31m         \u001b[0mself\u001b[0m\u001b[0;34m.\u001b[0m\u001b[0m_setitem_with_indexer\u001b[0m\u001b[0;34m(\u001b[0m\u001b[0mindexer\u001b[0m\u001b[0;34m,\u001b[0m \u001b[0mvalue\u001b[0m\u001b[0;34m)\u001b[0m\u001b[0;34m\u001b[0m\u001b[0;34m\u001b[0m\u001b[0m\n\u001b[0m\u001b[1;32m    671\u001b[0m \u001b[0;34m\u001b[0m\u001b[0m\n\u001b[1;32m    672\u001b[0m     \u001b[0;32mdef\u001b[0m \u001b[0m_validate_key\u001b[0m\u001b[0;34m(\u001b[0m\u001b[0mself\u001b[0m\u001b[0;34m,\u001b[0m \u001b[0mkey\u001b[0m\u001b[0;34m,\u001b[0m \u001b[0maxis\u001b[0m\u001b[0;34m:\u001b[0m \u001b[0mint\u001b[0m\u001b[0;34m)\u001b[0m\u001b[0;34m:\u001b[0m\u001b[0;34m\u001b[0m\u001b[0;34m\u001b[0m\u001b[0m\n",
      "\u001b[0;32m~.local/lib/python3.6/site-packages/pandas/core/indexing.py\u001b[0m in \u001b[0;36m_setitem_with_indexer\u001b[0;34m(self, indexer, value)\u001b[0m\n\u001b[1;32m   1061\u001b[0m             \u001b[0;31m# actually do the set\u001b[0m\u001b[0;34m\u001b[0m\u001b[0;34m\u001b[0m\u001b[0;34m\u001b[0m\u001b[0m\n\u001b[1;32m   1062\u001b[0m             \u001b[0mself\u001b[0m\u001b[0;34m.\u001b[0m\u001b[0mobj\u001b[0m\u001b[0;34m.\u001b[0m\u001b[0m_consolidate_inplace\u001b[0m\u001b[0;34m(\u001b[0m\u001b[0;34m)\u001b[0m\u001b[0;34m\u001b[0m\u001b[0;34m\u001b[0m\u001b[0m\n\u001b[0;32m-> 1063\u001b[0;31m             \u001b[0mself\u001b[0m\u001b[0;34m.\u001b[0m\u001b[0mobj\u001b[0m\u001b[0;34m.\u001b[0m\u001b[0m_data\u001b[0m \u001b[0;34m=\u001b[0m \u001b[0mself\u001b[0m\u001b[0;34m.\u001b[0m\u001b[0mobj\u001b[0m\u001b[0;34m.\u001b[0m\u001b[0m_data\u001b[0m\u001b[0;34m.\u001b[0m\u001b[0msetitem\u001b[0m\u001b[0;34m(\u001b[0m\u001b[0mindexer\u001b[0m\u001b[0;34m=\u001b[0m\u001b[0mindexer\u001b[0m\u001b[0;34m,\u001b[0m \u001b[0mvalue\u001b[0m\u001b[0;34m=\u001b[0m\u001b[0mvalue\u001b[0m\u001b[0;34m)\u001b[0m\u001b[0;34m\u001b[0m\u001b[0;34m\u001b[0m\u001b[0m\n\u001b[0m\u001b[1;32m   1064\u001b[0m             \u001b[0mself\u001b[0m\u001b[0;34m.\u001b[0m\u001b[0mobj\u001b[0m\u001b[0;34m.\u001b[0m\u001b[0m_maybe_update_cacher\u001b[0m\u001b[0;34m(\u001b[0m\u001b[0mclear\u001b[0m\u001b[0;34m=\u001b[0m\u001b[0;32mTrue\u001b[0m\u001b[0;34m)\u001b[0m\u001b[0;34m\u001b[0m\u001b[0;34m\u001b[0m\u001b[0m\n\u001b[1;32m   1065\u001b[0m \u001b[0;34m\u001b[0m\u001b[0m\n",
      "\u001b[0;32m~.local/lib/python3.6/site-packages/pandas/core/internals/managers.py\u001b[0m in \u001b[0;36msetitem\u001b[0;34m(self, **kwargs)\u001b[0m\n\u001b[1;32m    559\u001b[0m \u001b[0;34m\u001b[0m\u001b[0m\n\u001b[1;32m    560\u001b[0m     \u001b[0;32mdef\u001b[0m \u001b[0msetitem\u001b[0m\u001b[0;34m(\u001b[0m\u001b[0mself\u001b[0m\u001b[0;34m,\u001b[0m \u001b[0;34m**\u001b[0m\u001b[0mkwargs\u001b[0m\u001b[0;34m)\u001b[0m\u001b[0;34m:\u001b[0m\u001b[0;34m\u001b[0m\u001b[0;34m\u001b[0m\u001b[0m\n\u001b[0;32m--> 561\u001b[0;31m         \u001b[0;32mreturn\u001b[0m \u001b[0mself\u001b[0m\u001b[0;34m.\u001b[0m\u001b[0mapply\u001b[0m\u001b[0;34m(\u001b[0m\u001b[0;34m\"setitem\"\u001b[0m\u001b[0;34m,\u001b[0m \u001b[0;34m**\u001b[0m\u001b[0mkwargs\u001b[0m\u001b[0;34m)\u001b[0m\u001b[0;34m\u001b[0m\u001b[0;34m\u001b[0m\u001b[0m\n\u001b[0m\u001b[1;32m    562\u001b[0m \u001b[0;34m\u001b[0m\u001b[0m\n\u001b[1;32m    563\u001b[0m     \u001b[0;32mdef\u001b[0m \u001b[0mputmask\u001b[0m\u001b[0;34m(\u001b[0m\u001b[0mself\u001b[0m\u001b[0;34m,\u001b[0m \u001b[0;34m**\u001b[0m\u001b[0mkwargs\u001b[0m\u001b[0;34m)\u001b[0m\u001b[0;34m:\u001b[0m\u001b[0;34m\u001b[0m\u001b[0;34m\u001b[0m\u001b[0m\n",
      "\u001b[0;32m~.local/lib/python3.6/site-packages/pandas/core/internals/managers.py\u001b[0m in \u001b[0;36mapply\u001b[0;34m(self, f, filter, **kwargs)\u001b[0m\n\u001b[1;32m    440\u001b[0m                 \u001b[0mapplied\u001b[0m \u001b[0;34m=\u001b[0m \u001b[0mb\u001b[0m\u001b[0;34m.\u001b[0m\u001b[0mapply\u001b[0m\u001b[0;34m(\u001b[0m\u001b[0mf\u001b[0m\u001b[0;34m,\u001b[0m \u001b[0;34m**\u001b[0m\u001b[0mkwargs\u001b[0m\u001b[0;34m)\u001b[0m\u001b[0;34m\u001b[0m\u001b[0;34m\u001b[0m\u001b[0m\n\u001b[1;32m    441\u001b[0m             \u001b[0;32melse\u001b[0m\u001b[0;34m:\u001b[0m\u001b[0;34m\u001b[0m\u001b[0;34m\u001b[0m\u001b[0m\n\u001b[0;32m--> 442\u001b[0;31m                 \u001b[0mapplied\u001b[0m \u001b[0;34m=\u001b[0m \u001b[0mgetattr\u001b[0m\u001b[0;34m(\u001b[0m\u001b[0mb\u001b[0m\u001b[0;34m,\u001b[0m \u001b[0mf\u001b[0m\u001b[0;34m)\u001b[0m\u001b[0;34m(\u001b[0m\u001b[0;34m**\u001b[0m\u001b[0mkwargs\u001b[0m\u001b[0;34m)\u001b[0m\u001b[0;34m\u001b[0m\u001b[0;34m\u001b[0m\u001b[0m\n\u001b[0m\u001b[1;32m    443\u001b[0m             \u001b[0mresult_blocks\u001b[0m \u001b[0;34m=\u001b[0m \u001b[0m_extend_blocks\u001b[0m\u001b[0;34m(\u001b[0m\u001b[0mapplied\u001b[0m\u001b[0;34m,\u001b[0m \u001b[0mresult_blocks\u001b[0m\u001b[0;34m)\u001b[0m\u001b[0;34m\u001b[0m\u001b[0;34m\u001b[0m\u001b[0m\n\u001b[1;32m    444\u001b[0m \u001b[0;34m\u001b[0m\u001b[0m\n",
      "\u001b[0;32m~.local/lib/python3.6/site-packages/pandas/core/internals/blocks.py\u001b[0m in \u001b[0;36msetitem\u001b[0;34m(self, indexer, value)\u001b[0m\n\u001b[1;32m    909\u001b[0m         \u001b[0;31m# set\u001b[0m\u001b[0;34m\u001b[0m\u001b[0;34m\u001b[0m\u001b[0;34m\u001b[0m\u001b[0m\n\u001b[1;32m    910\u001b[0m         \u001b[0;32melse\u001b[0m\u001b[0;34m:\u001b[0m\u001b[0;34m\u001b[0m\u001b[0;34m\u001b[0m\u001b[0m\n\u001b[0;32m--> 911\u001b[0;31m             \u001b[0mvalues\u001b[0m\u001b[0;34m[\u001b[0m\u001b[0mindexer\u001b[0m\u001b[0;34m]\u001b[0m \u001b[0;34m=\u001b[0m \u001b[0mvalue\u001b[0m\u001b[0;34m\u001b[0m\u001b[0;34m\u001b[0m\u001b[0m\n\u001b[0m\u001b[1;32m    912\u001b[0m \u001b[0;34m\u001b[0m\u001b[0m\n\u001b[1;32m    913\u001b[0m         \u001b[0;32mif\u001b[0m \u001b[0mtranspose\u001b[0m\u001b[0;34m:\u001b[0m\u001b[0;34m\u001b[0m\u001b[0;34m\u001b[0m\u001b[0m\n",
      "\u001b[0;31mValueError\u001b[0m: cannot copy sequence with size 7 to array axis with dimension 6"
     ]
    }
   ],
   "source": [
    "test_fp = collect.testing()"
   ]
  },
  {
   "cell_type": "code",
   "execution_count": null,
   "metadata": {},
   "outputs": [],
   "source": [
    "test = transform.testing()"
   ]
  },
  {
   "cell_type": "code",
   "execution_count": null,
   "metadata": {},
   "outputs": [],
   "source": [
    "test"
   ]
  },
  {
   "cell_type": "markdown",
   "metadata": {},
   "source": [
    "## Take the intersection of all the DataFrames based on region (in place)"
   ]
  },
  {
   "cell_type": "code",
   "execution_count": 51,
   "metadata": {},
   "outputs": [
    {
     "data": {
      "text/plain": [
       "(63, 63)"
      ]
     },
     "execution_count": 51,
     "metadata": {},
     "output_type": "execute_result"
    }
   ],
   "source": [
    "keep = transform.intersect_dfs([test, pop, *THW, *IRD])\n",
    "len(keep), len(pop)"
   ]
  },
  {
   "cell_type": "markdown",
   "metadata": {},
   "source": [
    "# Now all our data in downloaded and transformed into nice DataFrames of the same size"
   ]
  },
  {
   "cell_type": "markdown",
   "metadata": {},
   "source": [
    "|     |     |     |     |     |     |     |     |\n",
    "|-----|-----|-----|-----|-----|-----|-----|-----|\n",
    "|Infected |Recovered | Deaths | Population | Temperature | Humidity | Wind Speed | Test Rate |\n",
    "|IRD[0] | IRD[1] | IRD[2] | pop| THW[0] | THW[1] | THW[2] | test "
   ]
  },
  {
   "cell_type": "code",
   "execution_count": null,
   "metadata": {},
   "outputs": [],
   "source": []
  }
 ],
 "metadata": {
  "kernelspec": {
   "display_name": "Python 3",
   "language": "python",
   "name": "python3"
  },
  "language_info": {
   "codemirror_mode": {
    "name": "ipython",
    "version": 3
   },
   "file_extension": ".py",
   "mimetype": "text/x-python",
   "name": "python",
   "nbconvert_exporter": "python",
   "pygments_lexer": "ipython3",
   "version": "3.6.8"
  }
 },
 "nbformat": 4,
 "nbformat_minor": 2
}
