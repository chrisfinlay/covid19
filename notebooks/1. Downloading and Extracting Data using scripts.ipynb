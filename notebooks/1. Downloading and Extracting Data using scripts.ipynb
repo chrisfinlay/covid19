{
 "cells": [
  {
   "cell_type": "code",
   "execution_count": 13,
   "metadata": {},
   "outputs": [],
   "source": [
    "import os, sys\n",
    "sys.path.append(os.path.split(os.getcwd())[0])"
   ]
  },
  {
   "cell_type": "code",
   "execution_count": 14,
   "metadata": {},
   "outputs": [],
   "source": [
    "import scripts.collect_data as collect\n",
    "import scripts.transform_data as transform\n",
    "import matplotlib.pyplot as plt\n",
    "import pandas as pd\n",
    "import numpy as np\n",
    "from glob import glob"
   ]
  },
  {
   "cell_type": "markdown",
   "metadata": {},
   "source": [
    "# Download and transform data associated with models"
   ]
  },
  {
   "cell_type": "markdown",
   "metadata": {},
   "source": [
    "|     |     |     |     |     |     |     |     |\n",
    "|-----|-----|-----|-----|-----|-----|-----|-----|\n",
    "|Infected |Recovered | Deaths | Population | Temperature | Humidity | Wind Speed | Test Rate |\n",
    "|IRD[0] | IRD[1] | IRD[2] | pop| THW[0] | THW[1] | THW[2] | test "
   ]
  },
  {
   "cell_type": "markdown",
   "metadata": {},
   "source": [
    "## Download John's Hopkins Infection, Recovery and Death data"
   ]
  },
  {
   "cell_type": "code",
   "execution_count": 3,
   "metadata": {},
   "outputs": [
    {
     "name": "stdout",
     "output_type": "stream",
     "text": [
      "Infection, Recovery and Death data saved @ /data/COVID-19/covid19/data/IRD\n"
     ]
    },
    {
     "data": {
      "text/plain": [
       "'/data/COVID-19/covid19/data/IRD'"
      ]
     },
     "execution_count": 3,
     "metadata": {},
     "output_type": "execute_result"
    }
   ],
   "source": [
    "collect.IRD()"
   ]
  },
  {
   "cell_type": "code",
   "execution_count": 4,
   "metadata": {},
   "outputs": [],
   "source": [
    "IRD = transform.IRD(min_confirmed=100, min_recovered=0, min_deaths=0)"
   ]
  },
  {
   "cell_type": "markdown",
   "metadata": {},
   "source": [
    "## Download weather data using Dark Sky API (max 1000/day)"
   ]
  },
  {
   "cell_type": "code",
   "execution_count": 41,
   "metadata": {},
   "outputs": [
    {
     "name": "stderr",
     "output_type": "stream",
     "text": [
      "100%|██████████| 264/264 [13:13<00:00,  3.01s/it]"
     ]
    },
    {
     "name": "stdout",
     "output_type": "stream",
     "text": [
      "Weather data saved @ /data/COVID-19/covid19/data/weather/json/\n"
     ]
    },
    {
     "name": "stderr",
     "output_type": "stream",
     "text": [
      "\n"
     ]
    },
    {
     "data": {
      "text/plain": [
       "'/data/COVID-19/covid19/data/weather/json/'"
      ]
     },
     "execution_count": 41,
     "metadata": {},
     "output_type": "execute_result"
    }
   ],
   "source": [
    "collect.weather()"
   ]
  },
  {
   "cell_type": "code",
   "execution_count": 42,
   "metadata": {},
   "outputs": [
    {
     "name": "stderr",
     "output_type": "stream",
     "text": [
      "100%|██████████| 264/264 [00:20<00:00, 12.64it/s]\n"
     ]
    },
    {
     "name": "stdout",
     "output_type": "stream",
     "text": [
      "Weather data saved @ /data/COVID-19/covid19/data/weather\n"
     ]
    }
   ],
   "source": [
    "THW = transform.weather(update=True)"
   ]
  },
  {
   "cell_type": "code",
   "execution_count": 43,
   "metadata": {},
   "outputs": [
    {
     "data": {
      "text/html": [
       "<div>\n",
       "<style scoped>\n",
       "    .dataframe tbody tr th:only-of-type {\n",
       "        vertical-align: middle;\n",
       "    }\n",
       "\n",
       "    .dataframe tbody tr th {\n",
       "        vertical-align: top;\n",
       "    }\n",
       "\n",
       "    .dataframe thead th {\n",
       "        text-align: right;\n",
       "    }\n",
       "</style>\n",
       "<table border=\"1\" class=\"dataframe\">\n",
       "  <thead>\n",
       "    <tr style=\"text-align: right;\">\n",
       "      <th></th>\n",
       "      <th>1/22/20</th>\n",
       "      <th>1/23/20</th>\n",
       "      <th>1/24/20</th>\n",
       "      <th>1/25/20</th>\n",
       "      <th>1/26/20</th>\n",
       "      <th>1/27/20</th>\n",
       "      <th>1/28/20</th>\n",
       "      <th>1/29/20</th>\n",
       "      <th>1/30/20</th>\n",
       "      <th>1/31/20</th>\n",
       "      <th>...</th>\n",
       "      <th>4/1/20</th>\n",
       "      <th>4/2/20</th>\n",
       "      <th>4/3/20</th>\n",
       "      <th>4/4/20</th>\n",
       "      <th>4/5/20</th>\n",
       "      <th>4/6/20</th>\n",
       "      <th>4/7/20</th>\n",
       "      <th>4/8/20</th>\n",
       "      <th>4/9/20</th>\n",
       "      <th>4/10/20</th>\n",
       "    </tr>\n",
       "    <tr>\n",
       "      <th>Country/Region</th>\n",
       "      <th></th>\n",
       "      <th></th>\n",
       "      <th></th>\n",
       "      <th></th>\n",
       "      <th></th>\n",
       "      <th></th>\n",
       "      <th></th>\n",
       "      <th></th>\n",
       "      <th></th>\n",
       "      <th></th>\n",
       "      <th></th>\n",
       "      <th></th>\n",
       "      <th></th>\n",
       "      <th></th>\n",
       "      <th></th>\n",
       "      <th></th>\n",
       "      <th></th>\n",
       "      <th></th>\n",
       "      <th></th>\n",
       "      <th></th>\n",
       "      <th></th>\n",
       "    </tr>\n",
       "  </thead>\n",
       "  <tbody>\n",
       "    <tr>\n",
       "      <th>Afghanistan</th>\n",
       "      <td>9.908750</td>\n",
       "      <td>9.908750</td>\n",
       "      <td>9.908750</td>\n",
       "      <td>9.908750</td>\n",
       "      <td>9.908750</td>\n",
       "      <td>9.908750</td>\n",
       "      <td>9.908750</td>\n",
       "      <td>9.908750</td>\n",
       "      <td>9.908750</td>\n",
       "      <td>9.908750</td>\n",
       "      <td>...</td>\n",
       "      <td>10.455833</td>\n",
       "      <td>11.140417</td>\n",
       "      <td>14.014583</td>\n",
       "      <td>12.852083</td>\n",
       "      <td>13.083333</td>\n",
       "      <td>11.259167</td>\n",
       "      <td>11.865833</td>\n",
       "      <td>13.893333</td>\n",
       "      <td>13.997917</td>\n",
       "      <td>14.586250</td>\n",
       "    </tr>\n",
       "    <tr>\n",
       "      <th>Albania</th>\n",
       "      <td>6.367500</td>\n",
       "      <td>6.367500</td>\n",
       "      <td>6.367500</td>\n",
       "      <td>6.367500</td>\n",
       "      <td>6.367500</td>\n",
       "      <td>6.367500</td>\n",
       "      <td>6.367500</td>\n",
       "      <td>6.367500</td>\n",
       "      <td>6.367500</td>\n",
       "      <td>6.367500</td>\n",
       "      <td>...</td>\n",
       "      <td>6.099167</td>\n",
       "      <td>5.885833</td>\n",
       "      <td>8.513750</td>\n",
       "      <td>11.061250</td>\n",
       "      <td>11.970000</td>\n",
       "      <td>12.524583</td>\n",
       "      <td>12.906667</td>\n",
       "      <td>13.200833</td>\n",
       "      <td>14.398750</td>\n",
       "      <td>15.447083</td>\n",
       "    </tr>\n",
       "    <tr>\n",
       "      <th>Algeria</th>\n",
       "      <td>22.660417</td>\n",
       "      <td>22.660417</td>\n",
       "      <td>22.660417</td>\n",
       "      <td>22.660417</td>\n",
       "      <td>22.660417</td>\n",
       "      <td>22.660417</td>\n",
       "      <td>22.660417</td>\n",
       "      <td>22.660417</td>\n",
       "      <td>22.660417</td>\n",
       "      <td>22.660417</td>\n",
       "      <td>...</td>\n",
       "      <td>23.765000</td>\n",
       "      <td>24.420833</td>\n",
       "      <td>22.214167</td>\n",
       "      <td>21.802500</td>\n",
       "      <td>22.341250</td>\n",
       "      <td>23.265000</td>\n",
       "      <td>24.711250</td>\n",
       "      <td>25.454167</td>\n",
       "      <td>25.868333</td>\n",
       "      <td>27.485000</td>\n",
       "    </tr>\n",
       "    <tr>\n",
       "      <th>Andorra</th>\n",
       "      <td>5.491667</td>\n",
       "      <td>5.491667</td>\n",
       "      <td>5.491667</td>\n",
       "      <td>5.491667</td>\n",
       "      <td>5.491667</td>\n",
       "      <td>5.491667</td>\n",
       "      <td>5.491667</td>\n",
       "      <td>5.491667</td>\n",
       "      <td>5.491667</td>\n",
       "      <td>5.491667</td>\n",
       "      <td>...</td>\n",
       "      <td>6.207500</td>\n",
       "      <td>5.969583</td>\n",
       "      <td>5.847917</td>\n",
       "      <td>7.210417</td>\n",
       "      <td>7.164583</td>\n",
       "      <td>8.049583</td>\n",
       "      <td>8.455417</td>\n",
       "      <td>9.774583</td>\n",
       "      <td>9.976667</td>\n",
       "      <td>10.343333</td>\n",
       "    </tr>\n",
       "    <tr>\n",
       "      <th>Angola</th>\n",
       "      <td>22.600833</td>\n",
       "      <td>22.600833</td>\n",
       "      <td>22.600833</td>\n",
       "      <td>22.600833</td>\n",
       "      <td>22.600833</td>\n",
       "      <td>22.600833</td>\n",
       "      <td>22.600833</td>\n",
       "      <td>22.600833</td>\n",
       "      <td>22.600833</td>\n",
       "      <td>22.600833</td>\n",
       "      <td>...</td>\n",
       "      <td>23.860417</td>\n",
       "      <td>21.522917</td>\n",
       "      <td>21.160833</td>\n",
       "      <td>21.392500</td>\n",
       "      <td>21.601667</td>\n",
       "      <td>22.343333</td>\n",
       "      <td>22.445417</td>\n",
       "      <td>21.167917</td>\n",
       "      <td>22.607917</td>\n",
       "      <td>20.617500</td>\n",
       "    </tr>\n",
       "    <tr>\n",
       "      <th>...</th>\n",
       "      <td>...</td>\n",
       "      <td>...</td>\n",
       "      <td>...</td>\n",
       "      <td>...</td>\n",
       "      <td>...</td>\n",
       "      <td>...</td>\n",
       "      <td>...</td>\n",
       "      <td>...</td>\n",
       "      <td>...</td>\n",
       "      <td>...</td>\n",
       "      <td>...</td>\n",
       "      <td>...</td>\n",
       "      <td>...</td>\n",
       "      <td>...</td>\n",
       "      <td>...</td>\n",
       "      <td>...</td>\n",
       "      <td>...</td>\n",
       "      <td>...</td>\n",
       "      <td>...</td>\n",
       "      <td>...</td>\n",
       "      <td>...</td>\n",
       "    </tr>\n",
       "    <tr>\n",
       "      <th>France / Saint Pierre and Miquelon</th>\n",
       "      <td>-5.152083</td>\n",
       "      <td>-2.133750</td>\n",
       "      <td>-0.276667</td>\n",
       "      <td>-3.060417</td>\n",
       "      <td>-0.559583</td>\n",
       "      <td>1.756667</td>\n",
       "      <td>-0.192917</td>\n",
       "      <td>-1.829167</td>\n",
       "      <td>-2.558333</td>\n",
       "      <td>-3.030417</td>\n",
       "      <td>...</td>\n",
       "      <td>3.360417</td>\n",
       "      <td>3.341250</td>\n",
       "      <td>2.525000</td>\n",
       "      <td>0.357500</td>\n",
       "      <td>0.003750</td>\n",
       "      <td>0.393333</td>\n",
       "      <td>NaN</td>\n",
       "      <td>NaN</td>\n",
       "      <td>NaN</td>\n",
       "      <td>NaN</td>\n",
       "    </tr>\n",
       "    <tr>\n",
       "      <th>South Sudan</th>\n",
       "      <td>26.382917</td>\n",
       "      <td>25.572500</td>\n",
       "      <td>25.743333</td>\n",
       "      <td>27.002083</td>\n",
       "      <td>28.325833</td>\n",
       "      <td>27.887500</td>\n",
       "      <td>26.995000</td>\n",
       "      <td>27.057917</td>\n",
       "      <td>27.706250</td>\n",
       "      <td>28.875833</td>\n",
       "      <td>...</td>\n",
       "      <td>31.995000</td>\n",
       "      <td>33.312500</td>\n",
       "      <td>33.655000</td>\n",
       "      <td>32.891250</td>\n",
       "      <td>30.714167</td>\n",
       "      <td>30.900417</td>\n",
       "      <td>NaN</td>\n",
       "      <td>NaN</td>\n",
       "      <td>NaN</td>\n",
       "      <td>NaN</td>\n",
       "    </tr>\n",
       "    <tr>\n",
       "      <th>Western Sahara</th>\n",
       "      <td>14.366250</td>\n",
       "      <td>16.211250</td>\n",
       "      <td>18.001667</td>\n",
       "      <td>18.052500</td>\n",
       "      <td>17.400417</td>\n",
       "      <td>17.236667</td>\n",
       "      <td>20.045000</td>\n",
       "      <td>21.201667</td>\n",
       "      <td>19.498750</td>\n",
       "      <td>18.992917</td>\n",
       "      <td>...</td>\n",
       "      <td>24.073750</td>\n",
       "      <td>24.551667</td>\n",
       "      <td>23.005000</td>\n",
       "      <td>21.618333</td>\n",
       "      <td>23.677500</td>\n",
       "      <td>25.290417</td>\n",
       "      <td>NaN</td>\n",
       "      <td>NaN</td>\n",
       "      <td>NaN</td>\n",
       "      <td>NaN</td>\n",
       "    </tr>\n",
       "    <tr>\n",
       "      <th>Sao Tome and Principe</th>\n",
       "      <td>26.849167</td>\n",
       "      <td>27.046250</td>\n",
       "      <td>26.746667</td>\n",
       "      <td>26.637917</td>\n",
       "      <td>26.914167</td>\n",
       "      <td>26.887083</td>\n",
       "      <td>26.918750</td>\n",
       "      <td>27.235833</td>\n",
       "      <td>27.305417</td>\n",
       "      <td>26.985417</td>\n",
       "      <td>...</td>\n",
       "      <td>28.077083</td>\n",
       "      <td>27.659167</td>\n",
       "      <td>27.574167</td>\n",
       "      <td>26.352083</td>\n",
       "      <td>27.465417</td>\n",
       "      <td>27.490833</td>\n",
       "      <td>NaN</td>\n",
       "      <td>NaN</td>\n",
       "      <td>NaN</td>\n",
       "      <td>NaN</td>\n",
       "    </tr>\n",
       "    <tr>\n",
       "      <th>Yemen</th>\n",
       "      <td>NaN</td>\n",
       "      <td>NaN</td>\n",
       "      <td>NaN</td>\n",
       "      <td>NaN</td>\n",
       "      <td>NaN</td>\n",
       "      <td>NaN</td>\n",
       "      <td>NaN</td>\n",
       "      <td>NaN</td>\n",
       "      <td>NaN</td>\n",
       "      <td>NaN</td>\n",
       "      <td>...</td>\n",
       "      <td>NaN</td>\n",
       "      <td>NaN</td>\n",
       "      <td>NaN</td>\n",
       "      <td>NaN</td>\n",
       "      <td>NaN</td>\n",
       "      <td>NaN</td>\n",
       "      <td>NaN</td>\n",
       "      <td>NaN</td>\n",
       "      <td>NaN</td>\n",
       "      <td>NaN</td>\n",
       "    </tr>\n",
       "  </tbody>\n",
       "</table>\n",
       "<p>227 rows × 80 columns</p>\n",
       "</div>"
      ],
      "text/plain": [
       "                                      1/22/20    1/23/20    1/24/20  \\\n",
       "Country/Region                                                        \n",
       "Afghanistan                          9.908750   9.908750   9.908750   \n",
       "Albania                              6.367500   6.367500   6.367500   \n",
       "Algeria                             22.660417  22.660417  22.660417   \n",
       "Andorra                              5.491667   5.491667   5.491667   \n",
       "Angola                              22.600833  22.600833  22.600833   \n",
       "...                                       ...        ...        ...   \n",
       "France / Saint Pierre and Miquelon  -5.152083  -2.133750  -0.276667   \n",
       "South Sudan                         26.382917  25.572500  25.743333   \n",
       "Western Sahara                      14.366250  16.211250  18.001667   \n",
       "Sao Tome and Principe               26.849167  27.046250  26.746667   \n",
       "Yemen                                     NaN        NaN        NaN   \n",
       "\n",
       "                                      1/25/20    1/26/20    1/27/20  \\\n",
       "Country/Region                                                        \n",
       "Afghanistan                          9.908750   9.908750   9.908750   \n",
       "Albania                              6.367500   6.367500   6.367500   \n",
       "Algeria                             22.660417  22.660417  22.660417   \n",
       "Andorra                              5.491667   5.491667   5.491667   \n",
       "Angola                              22.600833  22.600833  22.600833   \n",
       "...                                       ...        ...        ...   \n",
       "France / Saint Pierre and Miquelon  -3.060417  -0.559583   1.756667   \n",
       "South Sudan                         27.002083  28.325833  27.887500   \n",
       "Western Sahara                      18.052500  17.400417  17.236667   \n",
       "Sao Tome and Principe               26.637917  26.914167  26.887083   \n",
       "Yemen                                     NaN        NaN        NaN   \n",
       "\n",
       "                                      1/28/20    1/29/20    1/30/20  \\\n",
       "Country/Region                                                        \n",
       "Afghanistan                          9.908750   9.908750   9.908750   \n",
       "Albania                              6.367500   6.367500   6.367500   \n",
       "Algeria                             22.660417  22.660417  22.660417   \n",
       "Andorra                              5.491667   5.491667   5.491667   \n",
       "Angola                              22.600833  22.600833  22.600833   \n",
       "...                                       ...        ...        ...   \n",
       "France / Saint Pierre and Miquelon  -0.192917  -1.829167  -2.558333   \n",
       "South Sudan                         26.995000  27.057917  27.706250   \n",
       "Western Sahara                      20.045000  21.201667  19.498750   \n",
       "Sao Tome and Principe               26.918750  27.235833  27.305417   \n",
       "Yemen                                     NaN        NaN        NaN   \n",
       "\n",
       "                                      1/31/20  ...     4/1/20     4/2/20  \\\n",
       "Country/Region                                 ...                         \n",
       "Afghanistan                          9.908750  ...  10.455833  11.140417   \n",
       "Albania                              6.367500  ...   6.099167   5.885833   \n",
       "Algeria                             22.660417  ...  23.765000  24.420833   \n",
       "Andorra                              5.491667  ...   6.207500   5.969583   \n",
       "Angola                              22.600833  ...  23.860417  21.522917   \n",
       "...                                       ...  ...        ...        ...   \n",
       "France / Saint Pierre and Miquelon  -3.030417  ...   3.360417   3.341250   \n",
       "South Sudan                         28.875833  ...  31.995000  33.312500   \n",
       "Western Sahara                      18.992917  ...  24.073750  24.551667   \n",
       "Sao Tome and Principe               26.985417  ...  28.077083  27.659167   \n",
       "Yemen                                     NaN  ...        NaN        NaN   \n",
       "\n",
       "                                       4/3/20     4/4/20     4/5/20  \\\n",
       "Country/Region                                                        \n",
       "Afghanistan                         14.014583  12.852083  13.083333   \n",
       "Albania                              8.513750  11.061250  11.970000   \n",
       "Algeria                             22.214167  21.802500  22.341250   \n",
       "Andorra                              5.847917   7.210417   7.164583   \n",
       "Angola                              21.160833  21.392500  21.601667   \n",
       "...                                       ...        ...        ...   \n",
       "France / Saint Pierre and Miquelon   2.525000   0.357500   0.003750   \n",
       "South Sudan                         33.655000  32.891250  30.714167   \n",
       "Western Sahara                      23.005000  21.618333  23.677500   \n",
       "Sao Tome and Principe               27.574167  26.352083  27.465417   \n",
       "Yemen                                     NaN        NaN        NaN   \n",
       "\n",
       "                                       4/6/20     4/7/20     4/8/20  \\\n",
       "Country/Region                                                        \n",
       "Afghanistan                         11.259167  11.865833  13.893333   \n",
       "Albania                             12.524583  12.906667  13.200833   \n",
       "Algeria                             23.265000  24.711250  25.454167   \n",
       "Andorra                              8.049583   8.455417   9.774583   \n",
       "Angola                              22.343333  22.445417  21.167917   \n",
       "...                                       ...        ...        ...   \n",
       "France / Saint Pierre and Miquelon   0.393333        NaN        NaN   \n",
       "South Sudan                         30.900417        NaN        NaN   \n",
       "Western Sahara                      25.290417        NaN        NaN   \n",
       "Sao Tome and Principe               27.490833        NaN        NaN   \n",
       "Yemen                                     NaN        NaN        NaN   \n",
       "\n",
       "                                       4/9/20    4/10/20  \n",
       "Country/Region                                            \n",
       "Afghanistan                         13.997917  14.586250  \n",
       "Albania                             14.398750  15.447083  \n",
       "Algeria                             25.868333  27.485000  \n",
       "Andorra                              9.976667  10.343333  \n",
       "Angola                              22.607917  20.617500  \n",
       "...                                       ...        ...  \n",
       "France / Saint Pierre and Miquelon        NaN        NaN  \n",
       "South Sudan                               NaN        NaN  \n",
       "Western Sahara                            NaN        NaN  \n",
       "Sao Tome and Principe                     NaN        NaN  \n",
       "Yemen                                     NaN        NaN  \n",
       "\n",
       "[227 rows x 80 columns]"
      ]
     },
     "execution_count": 43,
     "metadata": {},
     "output_type": "execute_result"
    }
   ],
   "source": [
    "THW[0]"
   ]
  },
  {
   "cell_type": "markdown",
   "metadata": {},
   "source": [
    "## Download population data from Worldometer"
   ]
  },
  {
   "cell_type": "code",
   "execution_count": 44,
   "metadata": {},
   "outputs": [
    {
     "name": "stdout",
     "output_type": "stream",
     "text": [
      "Population data saved @ /data/COVID-19/covid19/data/population/populations_raw.csv\n"
     ]
    },
    {
     "data": {
      "text/plain": [
       "'/data/COVID-19/covid19/data/population/populations_raw.csv'"
      ]
     },
     "execution_count": 44,
     "metadata": {},
     "output_type": "execute_result"
    }
   ],
   "source": [
    "collect.population()"
   ]
  },
  {
   "cell_type": "code",
   "execution_count": 23,
   "metadata": {},
   "outputs": [
    {
     "name": "stdout",
     "output_type": "stream",
     "text": [
      "Number of unmatched regions : 46\n",
      "Population data saved @ /data/COVID-19/covid19/data/population/populations.csv\n"
     ]
    },
    {
     "data": {
      "text/plain": [
       "1"
      ]
     },
     "execution_count": 23,
     "metadata": {},
     "output_type": "execute_result"
    }
   ],
   "source": [
    "pop = transform.population()\n",
    "len(pop)"
   ]
  },
  {
   "cell_type": "code",
   "execution_count": 24,
   "metadata": {},
   "outputs": [
    {
     "data": {
      "text/html": [
       "<div>\n",
       "<style scoped>\n",
       "    .dataframe tbody tr th:only-of-type {\n",
       "        vertical-align: middle;\n",
       "    }\n",
       "\n",
       "    .dataframe tbody tr th {\n",
       "        vertical-align: top;\n",
       "    }\n",
       "\n",
       "    .dataframe thead th {\n",
       "        text-align: right;\n",
       "    }\n",
       "</style>\n",
       "<table border=\"1\" class=\"dataframe\">\n",
       "  <thead>\n",
       "    <tr style=\"text-align: right;\">\n",
       "      <th></th>\n",
       "      <th>Australia / New South Wales</th>\n",
       "      <th>Australia / Queensland</th>\n",
       "      <th>Australia / South Australia</th>\n",
       "      <th>Australia / Victoria</th>\n",
       "      <th>Australia / Western Australia</th>\n",
       "      <th>Denmark / Faroe Islands</th>\n",
       "      <th>France / Guadeloupe</th>\n",
       "      <th>France / Reunion</th>\n",
       "      <th>United Kingdom / Channel Islands</th>\n",
       "      <th>West Bank and Gaza</th>\n",
       "      <th>...</th>\n",
       "      <th>Libya</th>\n",
       "      <th>Guinea-Bissau</th>\n",
       "      <th>Mali</th>\n",
       "      <th>Botswana</th>\n",
       "      <th>Burundi</th>\n",
       "      <th>Sierra Leone</th>\n",
       "      <th>Malawi</th>\n",
       "      <th>South Sudan</th>\n",
       "      <th>Western Sahara</th>\n",
       "      <th>Yemen</th>\n",
       "    </tr>\n",
       "  </thead>\n",
       "  <tbody>\n",
       "    <tr>\n",
       "      <th>Population</th>\n",
       "      <td>8117976</td>\n",
       "      <td>5115451</td>\n",
       "      <td>1756494</td>\n",
       "      <td>6629870</td>\n",
       "      <td>2630557</td>\n",
       "      <td>51783</td>\n",
       "      <td>395700</td>\n",
       "      <td>859959</td>\n",
       "      <td>170499</td>\n",
       "      <td>3340143</td>\n",
       "      <td>...</td>\n",
       "      <td>6871292</td>\n",
       "      <td>1968001</td>\n",
       "      <td>20250833</td>\n",
       "      <td>2351627</td>\n",
       "      <td>11890784</td>\n",
       "      <td>7976983</td>\n",
       "      <td>19129952</td>\n",
       "      <td>11193725</td>\n",
       "      <td>597339</td>\n",
       "      <td>29825964</td>\n",
       "    </tr>\n",
       "  </tbody>\n",
       "</table>\n",
       "<p>1 rows × 181 columns</p>\n",
       "</div>"
      ],
      "text/plain": [
       "            Australia / New South Wales  Australia / Queensland  \\\n",
       "Population                      8117976                 5115451   \n",
       "\n",
       "            Australia / South Australia  Australia / Victoria  \\\n",
       "Population                      1756494               6629870   \n",
       "\n",
       "            Australia / Western Australia  Denmark / Faroe Islands  \\\n",
       "Population                        2630557                    51783   \n",
       "\n",
       "            France / Guadeloupe  France / Reunion  \\\n",
       "Population               395700            859959   \n",
       "\n",
       "            United Kingdom / Channel Islands  West Bank and Gaza  ...  \\\n",
       "Population                            170499             3340143  ...   \n",
       "\n",
       "              Libya  Guinea-Bissau      Mali  Botswana   Burundi  \\\n",
       "Population  6871292        1968001  20250833   2351627  11890784   \n",
       "\n",
       "            Sierra Leone    Malawi  South Sudan  Western Sahara     Yemen  \n",
       "Population       7976983  19129952     11193725          597339  29825964  \n",
       "\n",
       "[1 rows x 181 columns]"
      ]
     },
     "execution_count": 24,
     "metadata": {},
     "output_type": "execute_result"
    }
   ],
   "source": [
    "pop"
   ]
  },
  {
   "cell_type": "markdown",
   "metadata": {},
   "source": [
    "# BCG ATLAS Data"
   ]
  },
  {
   "cell_type": "markdown",
   "metadata": {},
   "source": [
    "BCG Atals data was copy and pasted manually into separate csv files. Here is the processing of them."
   ]
  },
  {
   "cell_type": "code",
   "execution_count": 76,
   "metadata": {},
   "outputs": [],
   "source": [
    "WHO_df = pd.read_csv('../data/BCG/WHO_BCG_policy.csv')"
   ]
  },
  {
   "cell_type": "code",
   "execution_count": 103,
   "metadata": {},
   "outputs": [],
   "source": [
    "years = WHO_df.iloc[0].values[1:].astype(int)\n",
    "countries = WHO_df[WHO_df.columns.values[0]].values[1:]\n",
    "data = WHO_df.values[1:,1:].astype(float)\n",
    "who_df = pd.DataFrame(data.T, columns=countries, index=years)"
   ]
  },
  {
   "cell_type": "code",
   "execution_count": 109,
   "metadata": {},
   "outputs": [
    {
     "data": {
      "text/plain": [
       "Afghanistan                           78.0\n",
       "Albania                               99.0\n",
       "Algeria                               99.0\n",
       "Angola                                86.0\n",
       "Argentina                             93.0\n",
       "                                      ... \n",
       "Venezuela (Bolivarian Republic of)    92.0\n",
       "Viet Nam                              95.0\n",
       "Yemen                                 64.0\n",
       "Zambia                                91.0\n",
       "Zimbabwe                              95.0\n",
       "Name: 2018, Length: 167, dtype: float64"
      ]
     },
     "execution_count": 109,
     "metadata": {},
     "output_type": "execute_result"
    }
   ],
   "source": [
    "who_df.T[2018]"
   ]
  },
  {
   "cell_type": "code",
   "execution_count": 117,
   "metadata": {},
   "outputs": [
    {
     "data": {
      "text/plain": [
       "Index(['Austria', 'Czechia', 'Finland', 'France', 'Greece', 'Ireland',\n",
       "       'Israel', 'Malta', 'Portugal', 'Slovakia', 'Slovenia'],\n",
       "      dtype='object')"
      ]
     },
     "execution_count": 117,
     "metadata": {},
     "output_type": "execute_result"
    }
   ],
   "source": [
    "who_df.T[who_df.T[2018].isnull()][2018].index"
   ]
  },
  {
   "cell_type": "code",
   "execution_count": 15,
   "metadata": {},
   "outputs": [],
   "source": [
    "files = glob('../data/BCG/BCG/*.csv')"
   ]
  },
  {
   "cell_type": "code",
   "execution_count": 16,
   "metadata": {},
   "outputs": [],
   "source": [
    "bcg = {}\n",
    "for i in range(len(files)):\n",
    "    df = pd.read_csv(files[i], skiprows=1)\n",
    "    country = os.path.split(files[i])[1][:-4]\n",
    "    bcg[country] = df[df[df.columns[0]]=='Current BCG vaccination?'][df.columns[2]].values[0]\n",
    "    \n",
    "WBIG = {}\n",
    "for i in range(len(files)):\n",
    "    df = pd.read_csv(files[i], skiprows=1)\n",
    "    country = os.path.split(files[i])[1][:-4]\n",
    "    WBIG[country] = df[df[df.columns[0]]=='Income group (World Bank)'][df.columns[2]].values[0]\n",
    "    \n",
    "start_year = {}\n",
    "for i in range(len(files)):\n",
    "    df = pd.read_csv(files[i], skiprows=1)\n",
    "    country = os.path.split(files[i])[1][:-4]\n",
    "    try:\n",
    "        start_year[country] = df[df[df.columns[0]]=='Which year was vaccination introduced?'][df.columns[2]].values[0]\n",
    "        if 's' in start_year[country]:\n",
    "            start_year[country] = start_year[country][:-2]+str(5)\n",
    "    except:\n",
    "        start_year[country] = 'N/A'\n",
    "        \n",
    "stop_year = {}\n",
    "for i in range(len(files)):\n",
    "    df = pd.read_csv(files[i], skiprows=1)\n",
    "    country = os.path.split(files[i])[1][:-4]\n",
    "    try:\n",
    "        stop_year[country] = df[df[df.columns[0]]=='Year BCG stopped?'][df.columns[2]].values[0]\n",
    "    except:\n",
    "        stop_year[country] = 'N/A'\n",
    "        \n",
    "coverage = {}\n",
    "for i in range(len(files)):\n",
    "    df = pd.read_csv(files[i], skiprows=1)\n",
    "    country = os.path.split(files[i])[1][:-4]\n",
    "    try:\n",
    "        coverage[country] = df[df[df.columns[0]]=='BCG coverage (%)'][df.columns[2]].values[0]\n",
    "    except:\n",
    "        coverage[country] = 'N/A'\n",
    "        \n",
    "changes = {}\n",
    "for i in range(len(files)):\n",
    "    df = pd.read_csv(files[i], skiprows=1)\n",
    "    country = os.path.split(files[i])[1][:-4]\n",
    "    try:\n",
    "        changes[country] = df[df[df.columns[0]]=='Year of changes to BCG schedule'][df.columns[2]].values[0]\n",
    "    except:\n",
    "        changes[country] = 'N/A'\n",
    "        \n",
    "details = {}\n",
    "for i in range(len(files)):\n",
    "    df = pd.read_csv(files[i], skiprows=1)\n",
    "    country = os.path.split(files[i])[1][:-4]\n",
    "    try:\n",
    "        details[country] = df[df[df.columns[0]]=='Details of changes'][df.columns[2]].values[0]\n",
    "    except:\n",
    "        details[country] = 'N/A'"
   ]
  },
  {
   "cell_type": "code",
   "execution_count": 17,
   "metadata": {},
   "outputs": [],
   "source": [
    "bcg_df = pd.DataFrame([bcg[key] for key in bcg], columns=['Current BCG Policy'], index=bcg.keys())"
   ]
  },
  {
   "cell_type": "code",
   "execution_count": 25,
   "metadata": {},
   "outputs": [],
   "source": [
    "bcg_df['World Bank Income Group'] = bcg_df.index.map(WBIG)\n",
    "bcg_df['Start Year'] = bcg_df.index.map(start_year)\n",
    "bcg_df['End Year'] = bcg_df.index.map(stop_year)\n",
    "bcg_df['Coverage'] = bcg_df.index.map(coverage)\n",
    "bcg_df['Changes'] = bcg_df.index.map(changes)\n",
    "bcg_df['Change Details'] = bcg_df.index.map(details)\n",
    "bcg_df['Deaths 4/5/20'] = bcg_df.index.map(dict(zip(IRD[2].index.values, IRD[2]['4/5/20'])))\n",
    "bcg_df['Population'] = bcg_df.index.map(dict(zip(pop.columns.values, pop.values[0])))\n",
    "bcg_df.index.rename('Country', inplace=True)"
   ]
  },
  {
   "cell_type": "code",
   "execution_count": 26,
   "metadata": {},
   "outputs": [],
   "source": [
    "bcg_df['Start Year (INT)'] = bcg_df['Start Year'].apply(pd.to_numeric, args=('coerce',))\n",
    "bcg_df['End Year (INT)'] = bcg_df['End Year'].apply(pd.to_numeric, args=('coerce',))"
   ]
  },
  {
   "cell_type": "markdown",
   "metadata": {},
   "source": [
    "Manually add start years for countries where more information as been gathered from Details column or would not be coerced properly"
   ]
  },
  {
   "cell_type": "code",
   "execution_count": 27,
   "metadata": {},
   "outputs": [],
   "source": [
    "bcg_df.T['Taiwan*']['Start Year (INT)'] = 1951\n",
    "bcg_df.T['Ukraine']['Start Year (INT)'] = 1980\n",
    "bcg_df.T['Japan']['Start Year (INT)'] = 1947\n",
    "bcg_df.T['Singapore']['Start Year (INT)'] = 1955"
   ]
  },
  {
   "cell_type": "code",
   "execution_count": 28,
   "metadata": {},
   "outputs": [],
   "source": [
    "def convert_IG(IG):\n",
    "    IG = IG.lower()\n",
    "    if 'high' in IG:\n",
    "        return 3\n",
    "    elif 'upper' in IG:\n",
    "        return 2\n",
    "    elif 'lower' in IG:\n",
    "        return 1\n",
    "    elif 'low income' in IG:\n",
    "        return 0\n",
    "    else:\n",
    "        return -1"
   ]
  },
  {
   "cell_type": "code",
   "execution_count": 29,
   "metadata": {},
   "outputs": [],
   "source": [
    "bcg_df['WBIG'] = bcg_df['World Bank Income Group'].apply(convert_IG)"
   ]
  },
  {
   "cell_type": "code",
   "execution_count": 36,
   "metadata": {},
   "outputs": [
    {
     "data": {
      "text/plain": [
       "95"
      ]
     },
     "execution_count": 36,
     "metadata": {},
     "output_type": "execute_result"
    }
   ],
   "source": [
    "len(bcg_df[bcg_df['Coverage']!='N/A']['Coverage'].values)"
   ]
  },
  {
   "cell_type": "code",
   "execution_count": 39,
   "metadata": {},
   "outputs": [
    {
     "data": {
      "text/plain": [
       "50"
      ]
     },
     "execution_count": 39,
     "metadata": {},
     "output_type": "execute_result"
    }
   ],
   "source": [
    "len(bcg_df[bcg_df['Start Year']!='N/A'])"
   ]
  },
  {
   "cell_type": "code",
   "execution_count": 44,
   "metadata": {},
   "outputs": [
    {
     "data": {
      "text/plain": [
       "(42, 68)"
      ]
     },
     "execution_count": 44,
     "metadata": {},
     "output_type": "execute_result"
    }
   ],
   "source": [
    "len(bcg_df[~bcg_df['Start Year (INT)'].isnull()]), len(bcg_df[bcg_df['Start Year (INT)'].isnull()])"
   ]
  },
  {
   "cell_type": "code",
   "execution_count": 43,
   "metadata": {},
   "outputs": [
    {
     "data": {
      "text/plain": [
       "110"
      ]
     },
     "execution_count": 43,
     "metadata": {},
     "output_type": "execute_result"
    }
   ],
   "source": [
    "len(bcg_df)"
   ]
  },
  {
   "cell_type": "code",
   "execution_count": 51,
   "metadata": {},
   "outputs": [],
   "source": [
    "def clean_percentage(string):\n",
    "    remove_chars = '%~>'\n",
    "    new_string = ''\n",
    "    for char in string:\n",
    "        if char not in remove_chars:\n",
    "            new_string += char\n",
    "        else:\n",
    "            continue\n",
    "    try:\n",
    "        return float(new_string)\n",
    "    except:\n",
    "        new_string"
   ]
  },
  {
   "cell_type": "code",
   "execution_count": 52,
   "metadata": {},
   "outputs": [],
   "source": [
    "bcg_df['Coverage (float)'] = bcg_df['Coverage'].apply(clean_percentage)"
   ]
  },
  {
   "cell_type": "code",
   "execution_count": 63,
   "metadata": {},
   "outputs": [],
   "source": [
    "bcg_df['Coverage (float)'].T['Ukraine'] = 30.0\n",
    "bcg_df['Coverage (float)'].T['South Africa'] = 90.5\n",
    "bcg_df['Coverage (float)'].T['Austria'] = 99.9\n",
    "bcg_df['Coverage (float)'].T['Sweden'] = 26.4\n",
    "bcg_df['Coverage (float)'].T['Columbia'] = 85.0"
   ]
  },
  {
   "cell_type": "code",
   "execution_count": 68,
   "metadata": {},
   "outputs": [],
   "source": [
    "# bcg_df[['Coverage', 'Start Year', 'Coverage (float)']].tail(50)"
   ]
  },
  {
   "cell_type": "code",
   "execution_count": null,
   "metadata": {},
   "outputs": [],
   "source": [
    "pd.set_option()\n",
    "# pd.set_option('display.max_rows', 500)\n",
    "# pd.set_option('display.max_columns', 500)"
   ]
  },
  {
   "cell_type": "code",
   "execution_count": 214,
   "metadata": {},
   "outputs": [
    {
     "data": {
      "text/plain": [
       "{'Albania',\n",
       " 'Algeria',\n",
       " 'Andorra',\n",
       " 'Argentina',\n",
       " 'Australia / New South Wales',\n",
       " 'Austria',\n",
       " 'Bangladesh',\n",
       " 'Belgium',\n",
       " 'Bosnia and Herzegovina',\n",
       " 'Brazil',\n",
       " 'Bulgaria',\n",
       " 'Burkina Faso',\n",
       " 'Chile',\n",
       " 'Colombia',\n",
       " 'Croatia',\n",
       " 'Czechia',\n",
       " 'Denmark',\n",
       " 'Dominican Republic',\n",
       " 'Ecuador',\n",
       " 'Egypt',\n",
       " 'Estonia',\n",
       " 'Finland',\n",
       " 'France',\n",
       " 'Germany',\n",
       " 'Greece',\n",
       " 'Honduras',\n",
       " 'Hungary',\n",
       " 'India',\n",
       " 'Indonesia',\n",
       " 'Iraq',\n",
       " 'Ireland',\n",
       " 'Israel',\n",
       " 'Japan',\n",
       " 'Korea, South',\n",
       " 'Lithuania',\n",
       " 'Luxembourg',\n",
       " 'Malaysia',\n",
       " 'Mexico',\n",
       " 'Moldova',\n",
       " 'Morocco',\n",
       " 'Netherlands',\n",
       " 'North Macedonia',\n",
       " 'Norway',\n",
       " 'Pakistan',\n",
       " 'Panama',\n",
       " 'Peru',\n",
       " 'Philippines',\n",
       " 'Poland',\n",
       " 'Portugal',\n",
       " 'Romania',\n",
       " 'Russia',\n",
       " 'San Marino',\n",
       " 'Saudi Arabia',\n",
       " 'Serbia',\n",
       " 'Slovenia',\n",
       " 'South Africa',\n",
       " 'Spain',\n",
       " 'Sweden',\n",
       " 'Switzerland',\n",
       " 'Thailand',\n",
       " 'Tunisia',\n",
       " 'Turkey',\n",
       " 'US',\n",
       " 'Ukraine',\n",
       " 'United Kingdom'}"
      ]
     },
     "execution_count": 214,
     "metadata": {},
     "output_type": "execute_result"
    }
   ],
   "source": [
    "set(IRD[2][IRD[2].max(axis=1)>20].index) - set()"
   ]
  },
  {
   "cell_type": "code",
   "execution_count": 195,
   "metadata": {},
   "outputs": [],
   "source": [
    "missing_bcg = ['Norway', 'Germany', 'Bolivia', 'US', 'Greece', 'Switzerland',\n",
    "               'United Arab Emirates', 'Netherlands', 'France', 'Belgium', 'Honduras',\n",
    "               'Spain', 'Niger']#, 'Czechia']"
   ]
  },
  {
   "cell_type": "code",
   "execution_count": 206,
   "metadata": {},
   "outputs": [
    {
     "data": {
      "text/plain": [
       "Index(['France', 'Greece', 'Honduras', 'Niger', 'United Arab Emirates'], dtype='object')"
      ]
     },
     "execution_count": 206,
     "metadata": {},
     "output_type": "execute_result"
    }
   ],
   "source": [
    "who_df[who_df.T.index.intersection(missing_bcg)].T.index"
   ]
  },
  {
   "cell_type": "code",
   "execution_count": 211,
   "metadata": {
    "scrolled": false
   },
   "outputs": [
    {
     "data": {
      "text/html": [
       "<div>\n",
       "<style scoped>\n",
       "    .dataframe tbody tr th:only-of-type {\n",
       "        vertical-align: middle;\n",
       "    }\n",
       "\n",
       "    .dataframe tbody tr th {\n",
       "        vertical-align: top;\n",
       "    }\n",
       "\n",
       "    .dataframe thead th {\n",
       "        text-align: right;\n",
       "    }\n",
       "</style>\n",
       "<table border=\"1\" class=\"dataframe\">\n",
       "  <thead>\n",
       "    <tr style=\"text-align: right;\">\n",
       "      <th></th>\n",
       "      <th>Current BCG Policy</th>\n",
       "      <th>World Bank Income Group</th>\n",
       "      <th>Start Year</th>\n",
       "      <th>End Year</th>\n",
       "      <th>Coverage</th>\n",
       "      <th>Changes</th>\n",
       "      <th>Change Details</th>\n",
       "      <th>Deaths 4/5/20</th>\n",
       "      <th>Population</th>\n",
       "      <th>Start Year (INT)</th>\n",
       "      <th>End Year (INT)</th>\n",
       "      <th>WBIG</th>\n",
       "      <th>Coverage (float)</th>\n",
       "    </tr>\n",
       "    <tr>\n",
       "      <th>Country</th>\n",
       "      <th></th>\n",
       "      <th></th>\n",
       "      <th></th>\n",
       "      <th></th>\n",
       "      <th></th>\n",
       "      <th></th>\n",
       "      <th></th>\n",
       "      <th></th>\n",
       "      <th></th>\n",
       "      <th></th>\n",
       "      <th></th>\n",
       "      <th></th>\n",
       "      <th></th>\n",
       "    </tr>\n",
       "  </thead>\n",
       "  <tbody>\n",
       "    <tr>\n",
       "      <th>Norway</th>\n",
       "      <td>No</td>\n",
       "      <td>High income</td>\n",
       "      <td>N/A</td>\n",
       "      <td>2009</td>\n",
       "      <td>Unkown</td>\n",
       "      <td>2009</td>\n",
       "      <td>BCG Vaccination no longer part of National Vac...</td>\n",
       "      <td>71</td>\n",
       "      <td>5.42124e+06</td>\n",
       "      <td>NaN</td>\n",
       "      <td>2009</td>\n",
       "      <td>3</td>\n",
       "      <td>NaN</td>\n",
       "    </tr>\n",
       "    <tr>\n",
       "      <th>Germany</th>\n",
       "      <td>No</td>\n",
       "      <td>High income</td>\n",
       "      <td>1961</td>\n",
       "      <td>1998</td>\n",
       "      <td>DK</td>\n",
       "      <td>1951 &amp; 1975</td>\n",
       "      <td>Histories different for West and East Germany ...</td>\n",
       "      <td>1584</td>\n",
       "      <td>8.37839e+07</td>\n",
       "      <td>1961</td>\n",
       "      <td>1998</td>\n",
       "      <td>3</td>\n",
       "      <td>NaN</td>\n",
       "    </tr>\n",
       "    <tr>\n",
       "      <th>Bolivia</th>\n",
       "      <td>Yes</td>\n",
       "      <td>Lower middle income</td>\n",
       "      <td>N/A</td>\n",
       "      <td>N/A</td>\n",
       "      <td>N/A</td>\n",
       "      <td>1989, 1995, 2013</td>\n",
       "      <td>1989: Stopped vaccinations for healthcare or o...</td>\n",
       "      <td>10</td>\n",
       "      <td>1.1673e+07</td>\n",
       "      <td>NaN</td>\n",
       "      <td>NaN</td>\n",
       "      <td>1</td>\n",
       "      <td>NaN</td>\n",
       "    </tr>\n",
       "    <tr>\n",
       "      <th>US</th>\n",
       "      <td>No</td>\n",
       "      <td>High income</td>\n",
       "      <td>N/A</td>\n",
       "      <td>N/A</td>\n",
       "      <td>N/A</td>\n",
       "      <td>None</td>\n",
       "      <td>None</td>\n",
       "      <td>9619</td>\n",
       "      <td>3.31003e+08</td>\n",
       "      <td>NaN</td>\n",
       "      <td>NaN</td>\n",
       "      <td>3</td>\n",
       "      <td>NaN</td>\n",
       "    </tr>\n",
       "    <tr>\n",
       "      <th>Greece</th>\n",
       "      <td>Yes</td>\n",
       "      <td>High income</td>\n",
       "      <td>N/A</td>\n",
       "      <td>N/A</td>\n",
       "      <td>DK</td>\n",
       "      <td>1951 &amp; 1975</td>\n",
       "      <td>Histories different for West and East Germany ...</td>\n",
       "      <td>73</td>\n",
       "      <td>1.04231e+07</td>\n",
       "      <td>NaN</td>\n",
       "      <td>NaN</td>\n",
       "      <td>3</td>\n",
       "      <td>NaN</td>\n",
       "    </tr>\n",
       "    <tr>\n",
       "      <th>Switzerland</th>\n",
       "      <td>No</td>\n",
       "      <td>High income</td>\n",
       "      <td>1965</td>\n",
       "      <td>1987</td>\n",
       "      <td>N/A</td>\n",
       "      <td>1960s, 1970s, 1987, 1996</td>\n",
       "      <td>1960s: BCG vaccination for tuberculin-negative...</td>\n",
       "      <td>715</td>\n",
       "      <td>8.65462e+06</td>\n",
       "      <td>1965</td>\n",
       "      <td>1987</td>\n",
       "      <td>3</td>\n",
       "      <td>NaN</td>\n",
       "    </tr>\n",
       "    <tr>\n",
       "      <th>United Arab Emirates</th>\n",
       "      <td>Yes</td>\n",
       "      <td>High income</td>\n",
       "      <td>N/A</td>\n",
       "      <td>N/A</td>\n",
       "      <td>N/A</td>\n",
       "      <td>N/A</td>\n",
       "      <td>N/A</td>\n",
       "      <td>10</td>\n",
       "      <td>9.8904e+06</td>\n",
       "      <td>NaN</td>\n",
       "      <td>NaN</td>\n",
       "      <td>3</td>\n",
       "      <td>NaN</td>\n",
       "    </tr>\n",
       "    <tr>\n",
       "      <th>Netherlands</th>\n",
       "      <td>No</td>\n",
       "      <td>High income</td>\n",
       "      <td>N/A</td>\n",
       "      <td>N/A</td>\n",
       "      <td>N/A</td>\n",
       "      <td>1979, 2005, 2016</td>\n",
       "      <td>1979: Discontinuation of vaccination healthcar...</td>\n",
       "      <td>1766</td>\n",
       "      <td>1.71349e+07</td>\n",
       "      <td>NaN</td>\n",
       "      <td>NaN</td>\n",
       "      <td>3</td>\n",
       "      <td>NaN</td>\n",
       "    </tr>\n",
       "    <tr>\n",
       "      <th>France</th>\n",
       "      <td>No</td>\n",
       "      <td>High income</td>\n",
       "      <td>1950</td>\n",
       "      <td>2007</td>\n",
       "      <td>N/A</td>\n",
       "      <td>2004, 2006, 2007</td>\n",
       "      <td>2004: Stopped revaccinations of children and a...</td>\n",
       "      <td>8078</td>\n",
       "      <td>6.52735e+07</td>\n",
       "      <td>1950</td>\n",
       "      <td>2007</td>\n",
       "      <td>3</td>\n",
       "      <td>NaN</td>\n",
       "    </tr>\n",
       "    <tr>\n",
       "      <th>Belgium</th>\n",
       "      <td>No</td>\n",
       "      <td>High income</td>\n",
       "      <td>N/A</td>\n",
       "      <td>N/A</td>\n",
       "      <td>N/A</td>\n",
       "      <td>1989, 1995, 2013</td>\n",
       "      <td>1989: Stopped vaccinations for healthcare or o...</td>\n",
       "      <td>1447</td>\n",
       "      <td>1.15896e+07</td>\n",
       "      <td>NaN</td>\n",
       "      <td>NaN</td>\n",
       "      <td>3</td>\n",
       "      <td>NaN</td>\n",
       "    </tr>\n",
       "    <tr>\n",
       "      <th>Honduras</th>\n",
       "      <td>Yes</td>\n",
       "      <td>Lower middle income</td>\n",
       "      <td>N/A</td>\n",
       "      <td>N/A</td>\n",
       "      <td>DK</td>\n",
       "      <td>1951 &amp; 1975</td>\n",
       "      <td>Histories different for West and East Germany ...</td>\n",
       "      <td>22</td>\n",
       "      <td>9.90461e+06</td>\n",
       "      <td>NaN</td>\n",
       "      <td>NaN</td>\n",
       "      <td>1</td>\n",
       "      <td>NaN</td>\n",
       "    </tr>\n",
       "    <tr>\n",
       "      <th>Spain</th>\n",
       "      <td>No</td>\n",
       "      <td>High income</td>\n",
       "      <td>1965</td>\n",
       "      <td>1981</td>\n",
       "      <td>N/A</td>\n",
       "      <td>1981</td>\n",
       "      <td>Systematic BCG vaccination ceased</td>\n",
       "      <td>12641</td>\n",
       "      <td>4.67548e+07</td>\n",
       "      <td>1965</td>\n",
       "      <td>1981</td>\n",
       "      <td>3</td>\n",
       "      <td>NaN</td>\n",
       "    </tr>\n",
       "    <tr>\n",
       "      <th>Niger</th>\n",
       "      <td>Yes</td>\n",
       "      <td>Low income</td>\n",
       "      <td>N/A</td>\n",
       "      <td>N/A</td>\n",
       "      <td>N/A</td>\n",
       "      <td>1979, 2005, 2016</td>\n",
       "      <td>1979: Discontinuation of vaccination healthcar...</td>\n",
       "      <td>10</td>\n",
       "      <td>2.42066e+07</td>\n",
       "      <td>NaN</td>\n",
       "      <td>NaN</td>\n",
       "      <td>0</td>\n",
       "      <td>NaN</td>\n",
       "    </tr>\n",
       "  </tbody>\n",
       "</table>\n",
       "</div>"
      ],
      "text/plain": [
       "                     Current BCG Policy World Bank Income Group Start Year  \\\n",
       "Country                                                                      \n",
       "Norway                               No             High income        N/A   \n",
       "Germany                              No             High income       1961   \n",
       "Bolivia                             Yes     Lower middle income        N/A   \n",
       "US                                   No             High income        N/A   \n",
       "Greece                              Yes             High income        N/A   \n",
       "Switzerland                          No             High income       1965   \n",
       "United Arab Emirates                Yes             High income        N/A   \n",
       "Netherlands                          No             High income        N/A   \n",
       "France                               No             High income       1950   \n",
       "Belgium                              No             High income        N/A   \n",
       "Honduras                            Yes     Lower middle income        N/A   \n",
       "Spain                                No             High income       1965   \n",
       "Niger                               Yes              Low income        N/A   \n",
       "\n",
       "                     End Year Coverage                    Changes  \\\n",
       "Country                                                             \n",
       "Norway                   2009   Unkown                       2009   \n",
       "Germany                  1998       DK                1951 & 1975   \n",
       "Bolivia                   N/A      N/A           1989, 1995, 2013   \n",
       "US                        N/A      N/A                       None   \n",
       "Greece                    N/A       DK                1951 & 1975   \n",
       "Switzerland              1987      N/A  1960s, 1970s, 1987, 1996    \n",
       "United Arab Emirates      N/A      N/A                        N/A   \n",
       "Netherlands               N/A      N/A           1979, 2005, 2016   \n",
       "France                   2007      N/A           2004, 2006, 2007   \n",
       "Belgium                   N/A      N/A           1989, 1995, 2013   \n",
       "Honduras                  N/A       DK                1951 & 1975   \n",
       "Spain                    1981      N/A                       1981   \n",
       "Niger                     N/A      N/A           1979, 2005, 2016   \n",
       "\n",
       "                                                         Change Details  \\\n",
       "Country                                                                   \n",
       "Norway                BCG Vaccination no longer part of National Vac...   \n",
       "Germany               Histories different for West and East Germany ...   \n",
       "Bolivia               1989: Stopped vaccinations for healthcare or o...   \n",
       "US                                                                 None   \n",
       "Greece                Histories different for West and East Germany ...   \n",
       "Switzerland           1960s: BCG vaccination for tuberculin-negative...   \n",
       "United Arab Emirates                                                N/A   \n",
       "Netherlands           1979: Discontinuation of vaccination healthcar...   \n",
       "France                2004: Stopped revaccinations of children and a...   \n",
       "Belgium               1989: Stopped vaccinations for healthcare or o...   \n",
       "Honduras              Histories different for West and East Germany ...   \n",
       "Spain                                 Systematic BCG vaccination ceased   \n",
       "Niger                 1979: Discontinuation of vaccination healthcar...   \n",
       "\n",
       "                     Deaths 4/5/20   Population Start Year (INT)  \\\n",
       "Country                                                            \n",
       "Norway                          71  5.42124e+06              NaN   \n",
       "Germany                       1584  8.37839e+07             1961   \n",
       "Bolivia                         10   1.1673e+07              NaN   \n",
       "US                            9619  3.31003e+08              NaN   \n",
       "Greece                          73  1.04231e+07              NaN   \n",
       "Switzerland                    715  8.65462e+06             1965   \n",
       "United Arab Emirates            10   9.8904e+06              NaN   \n",
       "Netherlands                   1766  1.71349e+07              NaN   \n",
       "France                        8078  6.52735e+07             1950   \n",
       "Belgium                       1447  1.15896e+07              NaN   \n",
       "Honduras                        22  9.90461e+06              NaN   \n",
       "Spain                        12641  4.67548e+07             1965   \n",
       "Niger                           10  2.42066e+07              NaN   \n",
       "\n",
       "                     End Year (INT) WBIG Coverage (float)  \n",
       "Country                                                    \n",
       "Norway                         2009    3              NaN  \n",
       "Germany                        1998    3              NaN  \n",
       "Bolivia                         NaN    1              NaN  \n",
       "US                              NaN    3              NaN  \n",
       "Greece                          NaN    3              NaN  \n",
       "Switzerland                    1987    3              NaN  \n",
       "United Arab Emirates            NaN    3              NaN  \n",
       "Netherlands                     NaN    3              NaN  \n",
       "France                         2007    3              NaN  \n",
       "Belgium                         NaN    3              NaN  \n",
       "Honduras                        NaN    1              NaN  \n",
       "Spain                          1981    3              NaN  \n",
       "Niger                           NaN    0              NaN  "
      ]
     },
     "execution_count": 211,
     "metadata": {},
     "output_type": "execute_result"
    }
   ],
   "source": [
    "bcg_df[bcg_df['Coverage (float)'].isnull()].T[missing_bcg].T"
   ]
  },
  {
   "cell_type": "code",
   "execution_count": 194,
   "metadata": {},
   "outputs": [
    {
     "data": {
      "text/html": [
       "<div>\n",
       "<style scoped>\n",
       "    .dataframe tbody tr th:only-of-type {\n",
       "        vertical-align: middle;\n",
       "    }\n",
       "\n",
       "    .dataframe tbody tr th {\n",
       "        vertical-align: top;\n",
       "    }\n",
       "\n",
       "    .dataframe thead th {\n",
       "        text-align: right;\n",
       "    }\n",
       "</style>\n",
       "<table border=\"1\" class=\"dataframe\">\n",
       "  <thead>\n",
       "    <tr style=\"text-align: right;\">\n",
       "      <th></th>\n",
       "      <th>Start Year</th>\n",
       "      <th>End Year</th>\n",
       "      <th>Change Details</th>\n",
       "    </tr>\n",
       "    <tr>\n",
       "      <th>Country</th>\n",
       "      <th></th>\n",
       "      <th></th>\n",
       "      <th></th>\n",
       "    </tr>\n",
       "  </thead>\n",
       "  <tbody>\n",
       "    <tr>\n",
       "      <th>Sri Lanka</th>\n",
       "      <td>N/A</td>\n",
       "      <td>N/A</td>\n",
       "      <td>Systematic BCG vaccination ceased</td>\n",
       "    </tr>\n",
       "    <tr>\n",
       "      <th>Canada</th>\n",
       "      <td>2011 data: 1933-1954 in some provinces/territori5</td>\n",
       "      <td>2011 data: 1960s-70s except for Inuit and many...</td>\n",
       "      <td>2011 data: Discontinuation of routine BCG vacc...</td>\n",
       "    </tr>\n",
       "    <tr>\n",
       "      <th>Norway</th>\n",
       "      <td>N/A</td>\n",
       "      <td>2009</td>\n",
       "      <td>BCG Vaccination no longer part of National Vac...</td>\n",
       "    </tr>\n",
       "    <tr>\n",
       "      <th>Guatemala</th>\n",
       "      <td>N/A</td>\n",
       "      <td>N/A</td>\n",
       "      <td>Histories different for West and East Germany ...</td>\n",
       "    </tr>\n",
       "    <tr>\n",
       "      <th>Germany</th>\n",
       "      <td>1961</td>\n",
       "      <td>1998</td>\n",
       "      <td>Histories different for West and East Germany ...</td>\n",
       "    </tr>\n",
       "    <tr>\n",
       "      <th>Syria</th>\n",
       "      <td>N/A</td>\n",
       "      <td>N/A</td>\n",
       "      <td>1960s: BCG vaccination for tuberculin-negative...</td>\n",
       "    </tr>\n",
       "    <tr>\n",
       "      <th>Bolivia</th>\n",
       "      <td>N/A</td>\n",
       "      <td>N/A</td>\n",
       "      <td>1989: Stopped vaccinations for healthcare or o...</td>\n",
       "    </tr>\n",
       "    <tr>\n",
       "      <th>Ghana</th>\n",
       "      <td>N/A</td>\n",
       "      <td>N/A</td>\n",
       "      <td>Histories different for West and East Germany ...</td>\n",
       "    </tr>\n",
       "    <tr>\n",
       "      <th>Gabon</th>\n",
       "      <td>N/A</td>\n",
       "      <td>N/A</td>\n",
       "      <td>2004: Stopped revaccinations of children and a...</td>\n",
       "    </tr>\n",
       "    <tr>\n",
       "      <th>US</th>\n",
       "      <td>N/A</td>\n",
       "      <td>N/A</td>\n",
       "      <td>None</td>\n",
       "    </tr>\n",
       "    <tr>\n",
       "      <th>Greece</th>\n",
       "      <td>N/A</td>\n",
       "      <td>N/A</td>\n",
       "      <td>Histories different for West and East Germany ...</td>\n",
       "    </tr>\n",
       "    <tr>\n",
       "      <th>Switzerland</th>\n",
       "      <td>1965</td>\n",
       "      <td>1987</td>\n",
       "      <td>1960s: BCG vaccination for tuberculin-negative...</td>\n",
       "    </tr>\n",
       "    <tr>\n",
       "      <th>United Arab Emirates</th>\n",
       "      <td>N/A</td>\n",
       "      <td>N/A</td>\n",
       "      <td>N/A</td>\n",
       "    </tr>\n",
       "    <tr>\n",
       "      <th>Jamaica</th>\n",
       "      <td>N/A</td>\n",
       "      <td>N/A</td>\n",
       "      <td>1970: Compulsory BCG vaccination was introduce...</td>\n",
       "    </tr>\n",
       "    <tr>\n",
       "      <th>Czech Replublic</th>\n",
       "      <td>1953</td>\n",
       "      <td>2010</td>\n",
       "      <td>1986-93: Stopped universal BCG vaccination in ...</td>\n",
       "    </tr>\n",
       "    <tr>\n",
       "      <th>Netherlands</th>\n",
       "      <td>N/A</td>\n",
       "      <td>N/A</td>\n",
       "      <td>1979: Discontinuation of vaccination healthcar...</td>\n",
       "    </tr>\n",
       "    <tr>\n",
       "      <th>France</th>\n",
       "      <td>1950</td>\n",
       "      <td>2007</td>\n",
       "      <td>2004: Stopped revaccinations of children and a...</td>\n",
       "    </tr>\n",
       "    <tr>\n",
       "      <th>Guyana</th>\n",
       "      <td>N/A</td>\n",
       "      <td>N/A</td>\n",
       "      <td>Histories different for West and East Germany ...</td>\n",
       "    </tr>\n",
       "    <tr>\n",
       "      <th>Belgium</th>\n",
       "      <td>N/A</td>\n",
       "      <td>N/A</td>\n",
       "      <td>1989: Stopped vaccinations for healthcare or o...</td>\n",
       "    </tr>\n",
       "    <tr>\n",
       "      <th>Honduras</th>\n",
       "      <td>N/A</td>\n",
       "      <td>N/A</td>\n",
       "      <td>Histories different for West and East Germany ...</td>\n",
       "    </tr>\n",
       "    <tr>\n",
       "      <th>Spain</th>\n",
       "      <td>1965</td>\n",
       "      <td>1981</td>\n",
       "      <td>Systematic BCG vaccination ceased</td>\n",
       "    </tr>\n",
       "    <tr>\n",
       "      <th>Niger</th>\n",
       "      <td>N/A</td>\n",
       "      <td>N/A</td>\n",
       "      <td>1979: Discontinuation of vaccination healthcar...</td>\n",
       "    </tr>\n",
       "    <tr>\n",
       "      <th>Italy</th>\n",
       "      <td>2011 data: 1970 (not national, only provincial)</td>\n",
       "      <td>2011 data: 2001 (not national, only provincial)</td>\n",
       "      <td>1970: Compulsory BCG vaccination was introduce...</td>\n",
       "    </tr>\n",
       "  </tbody>\n",
       "</table>\n",
       "</div>"
      ],
      "text/plain": [
       "                                                             Start Year  \\\n",
       "Country                                                                   \n",
       "Sri Lanka                                                           N/A   \n",
       "Canada                2011 data: 1933-1954 in some provinces/territori5   \n",
       "Norway                                                              N/A   \n",
       "Guatemala                                                           N/A   \n",
       "Germany                                                            1961   \n",
       "Syria                                                               N/A   \n",
       "Bolivia                                                             N/A   \n",
       "Ghana                                                               N/A   \n",
       "Gabon                                                               N/A   \n",
       "US                                                                  N/A   \n",
       "Greece                                                              N/A   \n",
       "Switzerland                                                        1965   \n",
       "United Arab Emirates                                                N/A   \n",
       "Jamaica                                                             N/A   \n",
       "Czech Replublic                                                    1953   \n",
       "Netherlands                                                         N/A   \n",
       "France                                                             1950   \n",
       "Guyana                                                              N/A   \n",
       "Belgium                                                             N/A   \n",
       "Honduras                                                            N/A   \n",
       "Spain                                                              1965   \n",
       "Niger                                                               N/A   \n",
       "Italy                  2011 data: 1970 (not national, only provincial)    \n",
       "\n",
       "                                                               End Year  \\\n",
       "Country                                                                   \n",
       "Sri Lanka                                                           N/A   \n",
       "Canada                2011 data: 1960s-70s except for Inuit and many...   \n",
       "Norway                                                             2009   \n",
       "Guatemala                                                           N/A   \n",
       "Germany                                                            1998   \n",
       "Syria                                                               N/A   \n",
       "Bolivia                                                             N/A   \n",
       "Ghana                                                               N/A   \n",
       "Gabon                                                               N/A   \n",
       "US                                                                  N/A   \n",
       "Greece                                                              N/A   \n",
       "Switzerland                                                        1987   \n",
       "United Arab Emirates                                                N/A   \n",
       "Jamaica                                                             N/A   \n",
       "Czech Replublic                                                    2010   \n",
       "Netherlands                                                         N/A   \n",
       "France                                                             2007   \n",
       "Guyana                                                              N/A   \n",
       "Belgium                                                             N/A   \n",
       "Honduras                                                            N/A   \n",
       "Spain                                                              1981   \n",
       "Niger                                                               N/A   \n",
       "Italy                   2011 data: 2001 (not national, only provincial)   \n",
       "\n",
       "                                                         Change Details  \n",
       "Country                                                                  \n",
       "Sri Lanka                             Systematic BCG vaccination ceased  \n",
       "Canada                2011 data: Discontinuation of routine BCG vacc...  \n",
       "Norway                BCG Vaccination no longer part of National Vac...  \n",
       "Guatemala             Histories different for West and East Germany ...  \n",
       "Germany               Histories different for West and East Germany ...  \n",
       "Syria                 1960s: BCG vaccination for tuberculin-negative...  \n",
       "Bolivia               1989: Stopped vaccinations for healthcare or o...  \n",
       "Ghana                 Histories different for West and East Germany ...  \n",
       "Gabon                 2004: Stopped revaccinations of children and a...  \n",
       "US                                                                 None  \n",
       "Greece                Histories different for West and East Germany ...  \n",
       "Switzerland           1960s: BCG vaccination for tuberculin-negative...  \n",
       "United Arab Emirates                                                N/A  \n",
       "Jamaica               1970: Compulsory BCG vaccination was introduce...  \n",
       "Czech Replublic       1986-93: Stopped universal BCG vaccination in ...  \n",
       "Netherlands           1979: Discontinuation of vaccination healthcar...  \n",
       "France                2004: Stopped revaccinations of children and a...  \n",
       "Guyana                Histories different for West and East Germany ...  \n",
       "Belgium               1989: Stopped vaccinations for healthcare or o...  \n",
       "Honduras              Histories different for West and East Germany ...  \n",
       "Spain                                 Systematic BCG vaccination ceased  \n",
       "Niger                 1979: Discontinuation of vaccination healthcar...  \n",
       "Italy                 1970: Compulsory BCG vaccination was introduce...  "
      ]
     },
     "execution_count": 194,
     "metadata": {},
     "output_type": "execute_result"
    }
   ],
   "source": [
    "bcg_df[bcg_df['Coverage (float)'].isnull()][['Start Year', 'End Year', 'Change Details']]"
   ]
  },
  {
   "cell_type": "code",
   "execution_count": 212,
   "metadata": {},
   "outputs": [
    {
     "data": {
      "text/html": [
       "<div>\n",
       "<style scoped>\n",
       "    .dataframe tbody tr th:only-of-type {\n",
       "        vertical-align: middle;\n",
       "    }\n",
       "\n",
       "    .dataframe tbody tr th {\n",
       "        vertical-align: top;\n",
       "    }\n",
       "\n",
       "    .dataframe thead th {\n",
       "        text-align: right;\n",
       "    }\n",
       "</style>\n",
       "<table border=\"1\" class=\"dataframe\">\n",
       "  <thead>\n",
       "    <tr style=\"text-align: right;\">\n",
       "      <th></th>\n",
       "      <th>Deaths 4/5/20</th>\n",
       "      <th>Population</th>\n",
       "      <th>Start Year (INT)</th>\n",
       "      <th>End Year (INT)</th>\n",
       "      <th>WBIG</th>\n",
       "      <th>Coverage (float)</th>\n",
       "    </tr>\n",
       "  </thead>\n",
       "  <tbody>\n",
       "    <tr>\n",
       "      <th>count</th>\n",
       "      <td>89.000000</td>\n",
       "      <td>1.020000e+02</td>\n",
       "      <td>42.000000</td>\n",
       "      <td>12.000000</td>\n",
       "      <td>110.000000</td>\n",
       "      <td>87.000000</td>\n",
       "    </tr>\n",
       "    <tr>\n",
       "      <th>mean</th>\n",
       "      <td>515.955056</td>\n",
       "      <td>4.962533e+07</td>\n",
       "      <td>1962.238095</td>\n",
       "      <td>1996.583333</td>\n",
       "      <td>2.027273</td>\n",
       "      <td>89.671264</td>\n",
       "    </tr>\n",
       "    <tr>\n",
       "      <th>std</th>\n",
       "      <td>1929.561802</td>\n",
       "      <td>1.457083e+08</td>\n",
       "      <td>16.348058</td>\n",
       "      <td>12.176418</td>\n",
       "      <td>0.952631</td>\n",
       "      <td>14.136946</td>\n",
       "    </tr>\n",
       "    <tr>\n",
       "      <th>min</th>\n",
       "      <td>2.000000</td>\n",
       "      <td>3.393100e+04</td>\n",
       "      <td>1928.000000</td>\n",
       "      <td>1975.000000</td>\n",
       "      <td>0.000000</td>\n",
       "      <td>26.400000</td>\n",
       "    </tr>\n",
       "    <tr>\n",
       "      <th>25%</th>\n",
       "      <td>8.000000</td>\n",
       "      <td>4.470522e+06</td>\n",
       "      <td>1951.000000</td>\n",
       "      <td>1986.750000</td>\n",
       "      <td>1.000000</td>\n",
       "      <td>88.450000</td>\n",
       "    </tr>\n",
       "    <tr>\n",
       "      <th>50%</th>\n",
       "      <td>28.000000</td>\n",
       "      <td>1.145812e+07</td>\n",
       "      <td>1955.000000</td>\n",
       "      <td>2001.500000</td>\n",
       "      <td>2.000000</td>\n",
       "      <td>94.000000</td>\n",
       "    </tr>\n",
       "    <tr>\n",
       "      <th>75%</th>\n",
       "      <td>94.000000</td>\n",
       "      <td>3.989896e+07</td>\n",
       "      <td>1976.000000</td>\n",
       "      <td>2006.250000</td>\n",
       "      <td>3.000000</td>\n",
       "      <td>98.000000</td>\n",
       "    </tr>\n",
       "    <tr>\n",
       "      <th>max</th>\n",
       "      <td>12641.000000</td>\n",
       "      <td>1.380004e+09</td>\n",
       "      <td>1999.000000</td>\n",
       "      <td>2010.000000</td>\n",
       "      <td>3.000000</td>\n",
       "      <td>100.000000</td>\n",
       "    </tr>\n",
       "  </tbody>\n",
       "</table>\n",
       "</div>"
      ],
      "text/plain": [
       "       Deaths 4/5/20    Population  Start Year (INT)  End Year (INT)  \\\n",
       "count      89.000000  1.020000e+02         42.000000       12.000000   \n",
       "mean      515.955056  4.962533e+07       1962.238095     1996.583333   \n",
       "std      1929.561802  1.457083e+08         16.348058       12.176418   \n",
       "min         2.000000  3.393100e+04       1928.000000     1975.000000   \n",
       "25%         8.000000  4.470522e+06       1951.000000     1986.750000   \n",
       "50%        28.000000  1.145812e+07       1955.000000     2001.500000   \n",
       "75%        94.000000  3.989896e+07       1976.000000     2006.250000   \n",
       "max     12641.000000  1.380004e+09       1999.000000     2010.000000   \n",
       "\n",
       "             WBIG  Coverage (float)  \n",
       "count  110.000000         87.000000  \n",
       "mean     2.027273         89.671264  \n",
       "std      0.952631         14.136946  \n",
       "min      0.000000         26.400000  \n",
       "25%      1.000000         88.450000  \n",
       "50%      2.000000         94.000000  \n",
       "75%      3.000000         98.000000  \n",
       "max      3.000000        100.000000  "
      ]
     },
     "execution_count": 212,
     "metadata": {},
     "output_type": "execute_result"
    }
   ],
   "source": [
    "bcg_df.describe()"
   ]
  },
  {
   "cell_type": "code",
   "execution_count": 32,
   "metadata": {},
   "outputs": [],
   "source": [
    "bcg_df.to_csv('../data/BCG/BCG_ATLAS.csv')"
   ]
  },
  {
   "cell_type": "markdown",
   "metadata": {},
   "source": [
    "Selection based on start year cut of 1955"
   ]
  },
  {
   "cell_type": "code",
   "execution_count": 33,
   "metadata": {},
   "outputs": [],
   "source": [
    "NONBCG = ['Indonesia', 'US', 'Italy', 'Netherlands', 'Belgium', \n",
    "          'Lebanon']#, 'Iran', 'Ecuador', 'Andorra', 'Luxembourg']\n",
    "BCG = ['Croatia', 'Peru', 'Slovenia', 'India', 'Romania', 'Finland', \n",
    "       'United Kingdom', 'Poland', 'Turkey', 'Bulgaria', 'Mexico', \n",
    "       'Ireland', 'France', 'Bosnia and Herzegovina', 'Austria', 'Denmark', \n",
    "       'Brazil']#, 'Germany', 'Jordan', 'Kazakhstan']"
   ]
  },
  {
   "cell_type": "markdown",
   "metadata": {},
   "source": [
    "# Age Distribution"
   ]
  },
  {
   "cell_type": "code",
   "execution_count": 155,
   "metadata": {},
   "outputs": [],
   "source": [
    "columns=['Variant','Region,Subregion,Country','Notes','Country code','Type','Parent code',\n",
    "         'Reference date (as of 1July)','0-4','5-9','10-14','15-19','20-24','25-29','30-34','35-39',\n",
    "         '40-44','45-49','50-54','55-59','60-64','65-69','70-74','75-79','80-84','85-89','90-94','95-99','100+']\n",
    "df = pd.read_excel('../data/population/WPP2019_POP_F07_1_POPULATION_BY_AGE_BOTH_SEXES.xlsx', skiprows=406, index_col=0)\n",
    "df.columns =  columns"
   ]
  },
  {
   "cell_type": "code",
   "execution_count": 165,
   "metadata": {},
   "outputs": [],
   "source": [
    "age_df = df[(df['Reference date (as of 1July)']==2020) & (df['Type']=='Country/Area')]\n",
    "age_df.drop(columns=['Variant', 'Notes', 'Country code', 'Type', 'Parent code', 'Reference date (as of 1July)'], \n",
    "            inplace=True)\n",
    "age_df.set_index(age_df.columns[0], inplace=True, )\n",
    "age_df.index.rename('Country', inplace=True)\n",
    "age_df *= 1000"
   ]
  },
  {
   "cell_type": "code",
   "execution_count": 181,
   "metadata": {},
   "outputs": [],
   "source": [
    "age_cbins = np.arange(2.5, 105, 5)\n",
    "age_prob = age_df.T.values/age_df.T.values.sum(axis=0)"
   ]
  },
  {
   "cell_type": "code",
   "execution_count": 201,
   "metadata": {},
   "outputs": [
    {
     "data": {
      "text/plain": [
       "[<matplotlib.lines.Line2D at 0x7f1edb12cb38>]"
      ]
     },
     "execution_count": 201,
     "metadata": {},
     "output_type": "execute_result"
    },
    {
     "data": {
      "image/png": "[encoded data removed]",
      "text/plain": [
       "<Figure size 720x504 with 1 Axes>"
      ]
     },
     "metadata": {
      "needs_background": "light"
     },
     "output_type": "display_data"
    }
   ],
   "source": [
    "plt.figure(figsize=(10,7))\n",
    "plt.plot(age_cbins, age_prob);\n",
    "plt.plot(age_cbins, np.mean(age_prob, axis=1), 'ko-')"
   ]
  },
  {
   "cell_type": "markdown",
   "metadata": {},
   "source": [
    "## Dowload testing data from Wikipedia (changes daily)\n",
    "\n",
    "Test data does not have Australia split up. \n",
    "\n",
    "It does have Canada split up but using abbreviations."
   ]
  },
  {
   "cell_type": "code",
   "execution_count": 47,
   "metadata": {},
   "outputs": [
    {
     "ename": "ValueError",
     "evalue": "cannot copy sequence with size 7 to array axis with dimension 6",
     "output_type": "error",
     "traceback": [
      "\u001b[0;31m---------------------------------------------------------------------------\u001b[0m",
      "\u001b[0;31mValueError\u001b[0m                                Traceback (most recent call last)",
      "\u001b[0;32m<ipython-input-47-2ebd59c2d748>\u001b[0m in \u001b[0;36m<module>\u001b[0;34m\u001b[0m\n\u001b[0;32m----> 1\u001b[0;31m \u001b[0mtest_fp\u001b[0m \u001b[0;34m=\u001b[0m \u001b[0mcollect\u001b[0m\u001b[0;34m.\u001b[0m\u001b[0mtesting\u001b[0m\u001b[0;34m(\u001b[0m\u001b[0;34m)\u001b[0m\u001b[0;34m\u001b[0m\u001b[0;34m\u001b[0m\u001b[0m\n\u001b[0m",
      "\u001b[0;32m~data/COVID-19/covid19/scripts/collect_data.py\u001b[0m in \u001b[0;36mtesting\u001b[0;34m()\u001b[0m\n\u001b[1;32m    146\u001b[0m     \u001b[0;32mfor\u001b[0m \u001b[0mi\u001b[0m \u001b[0;32min\u001b[0m \u001b[0mrange\u001b[0m\u001b[0;34m(\u001b[0m\u001b[0mlen\u001b[0m\u001b[0;34m(\u001b[0m\u001b[0mtesting\u001b[0m\u001b[0;34m)\u001b[0m\u001b[0;34m)\u001b[0m\u001b[0;34m:\u001b[0m\u001b[0;34m\u001b[0m\u001b[0;34m\u001b[0m\u001b[0m\n\u001b[1;32m    147\u001b[0m         \u001b[0mrow_data\u001b[0m \u001b[0;34m=\u001b[0m \u001b[0mhtml_table\u001b[0m\u001b[0;34m.\u001b[0m\u001b[0mfind_all\u001b[0m\u001b[0;34m(\u001b[0m\u001b[0;34m'tr'\u001b[0m\u001b[0;34m)\u001b[0m\u001b[0;34m[\u001b[0m\u001b[0mi\u001b[0m\u001b[0;34m+\u001b[0m\u001b[0;36m1\u001b[0m\u001b[0;34m]\u001b[0m\u001b[0;34m.\u001b[0m\u001b[0mfind_all\u001b[0m\u001b[0;34m(\u001b[0m\u001b[0;34m'td'\u001b[0m\u001b[0;34m)\u001b[0m\u001b[0;34m\u001b[0m\u001b[0;34m\u001b[0m\u001b[0m\n\u001b[0;32m--> 148\u001b[0;31m         \u001b[0mtesting\u001b[0m\u001b[0;34m.\u001b[0m\u001b[0miloc\u001b[0m\u001b[0;34m[\u001b[0m\u001b[0mi\u001b[0m\u001b[0;34m]\u001b[0m \u001b[0;34m=\u001b[0m \u001b[0;34m[\u001b[0m\u001b[0mx\u001b[0m\u001b[0;34m.\u001b[0m\u001b[0mtext\u001b[0m\u001b[0;34m.\u001b[0m\u001b[0mrstrip\u001b[0m\u001b[0;34m(\u001b[0m\u001b[0;34m)\u001b[0m \u001b[0;32mfor\u001b[0m \u001b[0mx\u001b[0m \u001b[0;32min\u001b[0m \u001b[0mrow_data\u001b[0m\u001b[0;34m]\u001b[0m\u001b[0;34m\u001b[0m\u001b[0;34m\u001b[0m\u001b[0m\n\u001b[0m\u001b[1;32m    149\u001b[0m \u001b[0;34m\u001b[0m\u001b[0m\n\u001b[1;32m    150\u001b[0m     \u001b[0;31m# Save data with today's date as data changes daily\u001b[0m\u001b[0;34m\u001b[0m\u001b[0;34m\u001b[0m\u001b[0;34m\u001b[0m\u001b[0m\n",
      "\u001b[0;32m~.local/lib/python3.6/site-packages/pandas/core/indexing.py\u001b[0m in \u001b[0;36m__setitem__\u001b[0;34m(self, key, value)\u001b[0m\n\u001b[1;32m    668\u001b[0m             \u001b[0mkey\u001b[0m \u001b[0;34m=\u001b[0m \u001b[0mcom\u001b[0m\u001b[0;34m.\u001b[0m\u001b[0mapply_if_callable\u001b[0m\u001b[0;34m(\u001b[0m\u001b[0mkey\u001b[0m\u001b[0;34m,\u001b[0m \u001b[0mself\u001b[0m\u001b[0;34m.\u001b[0m\u001b[0mobj\u001b[0m\u001b[0;34m)\u001b[0m\u001b[0;34m\u001b[0m\u001b[0;34m\u001b[0m\u001b[0m\n\u001b[1;32m    669\u001b[0m         \u001b[0mindexer\u001b[0m \u001b[0;34m=\u001b[0m \u001b[0mself\u001b[0m\u001b[0;34m.\u001b[0m\u001b[0m_get_setitem_indexer\u001b[0m\u001b[0;34m(\u001b[0m\u001b[0mkey\u001b[0m\u001b[0;34m)\u001b[0m\u001b[0;34m\u001b[0m\u001b[0;34m\u001b[0m\u001b[0m\n\u001b[0;32m--> 670\u001b[0;31m         \u001b[0mself\u001b[0m\u001b[0;34m.\u001b[0m\u001b[0m_setitem_with_indexer\u001b[0m\u001b[0;34m(\u001b[0m\u001b[0mindexer\u001b[0m\u001b[0;34m,\u001b[0m \u001b[0mvalue\u001b[0m\u001b[0;34m)\u001b[0m\u001b[0;34m\u001b[0m\u001b[0;34m\u001b[0m\u001b[0m\n\u001b[0m\u001b[1;32m    671\u001b[0m \u001b[0;34m\u001b[0m\u001b[0m\n\u001b[1;32m    672\u001b[0m     \u001b[0;32mdef\u001b[0m \u001b[0m_validate_key\u001b[0m\u001b[0;34m(\u001b[0m\u001b[0mself\u001b[0m\u001b[0;34m,\u001b[0m \u001b[0mkey\u001b[0m\u001b[0;34m,\u001b[0m \u001b[0maxis\u001b[0m\u001b[0;34m:\u001b[0m \u001b[0mint\u001b[0m\u001b[0;34m)\u001b[0m\u001b[0;34m:\u001b[0m\u001b[0;34m\u001b[0m\u001b[0;34m\u001b[0m\u001b[0m\n",
      "\u001b[0;32m~.local/lib/python3.6/site-packages/pandas/core/indexing.py\u001b[0m in \u001b[0;36m_setitem_with_indexer\u001b[0;34m(self, indexer, value)\u001b[0m\n\u001b[1;32m   1061\u001b[0m             \u001b[0;31m# actually do the set\u001b[0m\u001b[0;34m\u001b[0m\u001b[0;34m\u001b[0m\u001b[0;34m\u001b[0m\u001b[0m\n\u001b[1;32m   1062\u001b[0m             \u001b[0mself\u001b[0m\u001b[0;34m.\u001b[0m\u001b[0mobj\u001b[0m\u001b[0;34m.\u001b[0m\u001b[0m_consolidate_inplace\u001b[0m\u001b[0;34m(\u001b[0m\u001b[0;34m)\u001b[0m\u001b[0;34m\u001b[0m\u001b[0;34m\u001b[0m\u001b[0m\n\u001b[0;32m-> 1063\u001b[0;31m             \u001b[0mself\u001b[0m\u001b[0;34m.\u001b[0m\u001b[0mobj\u001b[0m\u001b[0;34m.\u001b[0m\u001b[0m_data\u001b[0m \u001b[0;34m=\u001b[0m \u001b[0mself\u001b[0m\u001b[0;34m.\u001b[0m\u001b[0mobj\u001b[0m\u001b[0;34m.\u001b[0m\u001b[0m_data\u001b[0m\u001b[0;34m.\u001b[0m\u001b[0msetitem\u001b[0m\u001b[0;34m(\u001b[0m\u001b[0mindexer\u001b[0m\u001b[0;34m=\u001b[0m\u001b[0mindexer\u001b[0m\u001b[0;34m,\u001b[0m \u001b[0mvalue\u001b[0m\u001b[0;34m=\u001b[0m\u001b[0mvalue\u001b[0m\u001b[0;34m)\u001b[0m\u001b[0;34m\u001b[0m\u001b[0;34m\u001b[0m\u001b[0m\n\u001b[0m\u001b[1;32m   1064\u001b[0m             \u001b[0mself\u001b[0m\u001b[0;34m.\u001b[0m\u001b[0mobj\u001b[0m\u001b[0;34m.\u001b[0m\u001b[0m_maybe_update_cacher\u001b[0m\u001b[0;34m(\u001b[0m\u001b[0mclear\u001b[0m\u001b[0;34m=\u001b[0m\u001b[0;32mTrue\u001b[0m\u001b[0;34m)\u001b[0m\u001b[0;34m\u001b[0m\u001b[0;34m\u001b[0m\u001b[0m\n\u001b[1;32m   1065\u001b[0m \u001b[0;34m\u001b[0m\u001b[0m\n",
      "\u001b[0;32m~.local/lib/python3.6/site-packages/pandas/core/internals/managers.py\u001b[0m in \u001b[0;36msetitem\u001b[0;34m(self, **kwargs)\u001b[0m\n\u001b[1;32m    559\u001b[0m \u001b[0;34m\u001b[0m\u001b[0m\n\u001b[1;32m    560\u001b[0m     \u001b[0;32mdef\u001b[0m \u001b[0msetitem\u001b[0m\u001b[0;34m(\u001b[0m\u001b[0mself\u001b[0m\u001b[0;34m,\u001b[0m \u001b[0;34m**\u001b[0m\u001b[0mkwargs\u001b[0m\u001b[0;34m)\u001b[0m\u001b[0;34m:\u001b[0m\u001b[0;34m\u001b[0m\u001b[0;34m\u001b[0m\u001b[0m\n\u001b[0;32m--> 561\u001b[0;31m         \u001b[0;32mreturn\u001b[0m \u001b[0mself\u001b[0m\u001b[0;34m.\u001b[0m\u001b[0mapply\u001b[0m\u001b[0;34m(\u001b[0m\u001b[0;34m\"setitem\"\u001b[0m\u001b[0;34m,\u001b[0m \u001b[0;34m**\u001b[0m\u001b[0mkwargs\u001b[0m\u001b[0;34m)\u001b[0m\u001b[0;34m\u001b[0m\u001b[0;34m\u001b[0m\u001b[0m\n\u001b[0m\u001b[1;32m    562\u001b[0m \u001b[0;34m\u001b[0m\u001b[0m\n\u001b[1;32m    563\u001b[0m     \u001b[0;32mdef\u001b[0m \u001b[0mputmask\u001b[0m\u001b[0;34m(\u001b[0m\u001b[0mself\u001b[0m\u001b[0;34m,\u001b[0m \u001b[0;34m**\u001b[0m\u001b[0mkwargs\u001b[0m\u001b[0;34m)\u001b[0m\u001b[0;34m:\u001b[0m\u001b[0;34m\u001b[0m\u001b[0;34m\u001b[0m\u001b[0m\n",
      "\u001b[0;32m~.local/lib/python3.6/site-packages/pandas/core/internals/managers.py\u001b[0m in \u001b[0;36mapply\u001b[0;34m(self, f, filter, **kwargs)\u001b[0m\n\u001b[1;32m    440\u001b[0m                 \u001b[0mapplied\u001b[0m \u001b[0;34m=\u001b[0m \u001b[0mb\u001b[0m\u001b[0;34m.\u001b[0m\u001b[0mapply\u001b[0m\u001b[0;34m(\u001b[0m\u001b[0mf\u001b[0m\u001b[0;34m,\u001b[0m \u001b[0;34m**\u001b[0m\u001b[0mkwargs\u001b[0m\u001b[0;34m)\u001b[0m\u001b[0;34m\u001b[0m\u001b[0;34m\u001b[0m\u001b[0m\n\u001b[1;32m    441\u001b[0m             \u001b[0;32melse\u001b[0m\u001b[0;34m:\u001b[0m\u001b[0;34m\u001b[0m\u001b[0;34m\u001b[0m\u001b[0m\n\u001b[0;32m--> 442\u001b[0;31m                 \u001b[0mapplied\u001b[0m \u001b[0;34m=\u001b[0m \u001b[0mgetattr\u001b[0m\u001b[0;34m(\u001b[0m\u001b[0mb\u001b[0m\u001b[0;34m,\u001b[0m \u001b[0mf\u001b[0m\u001b[0;34m)\u001b[0m\u001b[0;34m(\u001b[0m\u001b[0;34m**\u001b[0m\u001b[0mkwargs\u001b[0m\u001b[0;34m)\u001b[0m\u001b[0;34m\u001b[0m\u001b[0;34m\u001b[0m\u001b[0m\n\u001b[0m\u001b[1;32m    443\u001b[0m             \u001b[0mresult_blocks\u001b[0m \u001b[0;34m=\u001b[0m \u001b[0m_extend_blocks\u001b[0m\u001b[0;34m(\u001b[0m\u001b[0mapplied\u001b[0m\u001b[0;34m,\u001b[0m \u001b[0mresult_blocks\u001b[0m\u001b[0;34m)\u001b[0m\u001b[0;34m\u001b[0m\u001b[0;34m\u001b[0m\u001b[0m\n\u001b[1;32m    444\u001b[0m \u001b[0;34m\u001b[0m\u001b[0m\n",
      "\u001b[0;32m~.local/lib/python3.6/site-packages/pandas/core/internals/blocks.py\u001b[0m in \u001b[0;36msetitem\u001b[0;34m(self, indexer, value)\u001b[0m\n\u001b[1;32m    909\u001b[0m         \u001b[0;31m# set\u001b[0m\u001b[0;34m\u001b[0m\u001b[0;34m\u001b[0m\u001b[0;34m\u001b[0m\u001b[0m\n\u001b[1;32m    910\u001b[0m         \u001b[0;32melse\u001b[0m\u001b[0;34m:\u001b[0m\u001b[0;34m\u001b[0m\u001b[0;34m\u001b[0m\u001b[0m\n\u001b[0;32m--> 911\u001b[0;31m             \u001b[0mvalues\u001b[0m\u001b[0;34m[\u001b[0m\u001b[0mindexer\u001b[0m\u001b[0;34m]\u001b[0m \u001b[0;34m=\u001b[0m \u001b[0mvalue\u001b[0m\u001b[0;34m\u001b[0m\u001b[0;34m\u001b[0m\u001b[0m\n\u001b[0m\u001b[1;32m    912\u001b[0m \u001b[0;34m\u001b[0m\u001b[0m\n\u001b[1;32m    913\u001b[0m         \u001b[0;32mif\u001b[0m \u001b[0mtranspose\u001b[0m\u001b[0;34m:\u001b[0m\u001b[0;34m\u001b[0m\u001b[0;34m\u001b[0m\u001b[0m\n",
      "\u001b[0;31mValueError\u001b[0m: cannot copy sequence with size 7 to array axis with dimension 6"
     ]
    }
   ],
   "source": [
    "test_fp = collect.testing()"
   ]
  },
  {
   "cell_type": "code",
   "execution_count": null,
   "metadata": {},
   "outputs": [],
   "source": [
    "test = transform.testing()"
   ]
  },
  {
   "cell_type": "code",
   "execution_count": null,
   "metadata": {},
   "outputs": [],
   "source": [
    "test"
   ]
  },
  {
   "cell_type": "markdown",
   "metadata": {},
   "source": [
    "## Take the intersection of all the DataFrames based on region (in place)"
   ]
  },
  {
   "cell_type": "code",
   "execution_count": 51,
   "metadata": {},
   "outputs": [
    {
     "data": {
      "text/plain": [
       "(63, 63)"
      ]
     },
     "execution_count": 51,
     "metadata": {},
     "output_type": "execute_result"
    }
   ],
   "source": [
    "keep = transform.intersect_dfs([test, pop, *THW, *IRD])\n",
    "len(keep), len(pop)"
   ]
  },
  {
   "cell_type": "markdown",
   "metadata": {},
   "source": [
    "# Now all our data in downloaded and transformed into nice DataFrames of the same size"
   ]
  },
  {
   "cell_type": "markdown",
   "metadata": {},
   "source": [
    "|     |     |     |     |     |     |     |     |\n",
    "|-----|-----|-----|-----|-----|-----|-----|-----|\n",
    "|Infected |Recovered | Deaths | Population | Temperature | Humidity | Wind Speed | Test Rate |\n",
    "|IRD[0] | IRD[1] | IRD[2] | pop| THW[0] | THW[1] | THW[2] | test "
   ]
  },
  {
   "cell_type": "code",
   "execution_count": null,
   "metadata": {},
   "outputs": [],
   "source": []
  }
 ],
 "metadata": {
  "kernelspec": {
   "display_name": "Python 3",
   "language": "python",
   "name": "python3"
  },
  "language_info": {
   "codemirror_mode": {
    "name": "ipython",
    "version": 3
   },
   "file_extension": ".py",
   "mimetype": "text/x-python",
   "name": "python",
   "nbconvert_exporter": "python",
   "pygments_lexer": "ipython3",
   "version": "3.6.8"
  }
 },
 "nbformat": 4,
 "nbformat_minor": 2
}
